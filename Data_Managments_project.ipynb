{
 "cells": [
  {
   "cell_type": "code",
   "execution_count": 412,
   "metadata": {
    "id": "HB3shnGVt4ZD"
   },
   "outputs": [],
   "source": [
    "# the following libraries will be used for the tasks our project\n",
    "\n",
    "import pandas as pd\n",
    "import numpy as np\n",
    "from bs4 import BeautifulSoup\n",
    "import requests\n",
    "import matplotlib.pyplot as plt\n",
    "import seaborn as sns"
   ]
  },
  {
   "cell_type": "code",
   "execution_count": 414,
   "metadata": {
    "colab": {
     "base_uri": "https://localhost:8080/",
     "height": 106
    },
    "id": "hh0VSe5vw0vX",
    "outputId": "8c4efe24-7328-481e-f209-de2e0165f591"
   },
   "outputs": [],
   "source": [
    "# load the CSV file\n",
    "csv_df = pd.read_csv('cancer2017.csv', encoding='ISO-8859-1')"
   ]
  },
  {
   "cell_type": "code",
   "execution_count": 416,
   "metadata": {
    "colab": {
     "base_uri": "https://localhost:8080/"
    },
    "id": "kqoSCmMQ0FGZ",
    "outputId": "18b25d66-55c3-4765-e8f1-1e6d06154fbe"
   },
   "outputs": [
    {
     "name": "stdout",
     "output_type": "stream",
     "text": [
      "        State Brain/ nervous system Female breast Colon & rectum Leukemia  \\\n",
      "0     Alabama                   320           650            940      420   \n",
      "1      Alaska                                 70            100           \n",
      "2     Arizona                   380           810          1,020      550   \n",
      "3    Arkansas                   180           420            600      250   \n",
      "4  California                  1830          4440           5240     2610   \n",
      "\n",
      "  Liver Lung & bronchus Non-Hodgkin Lymphoma Ovary Pancreas Prostate  \n",
      "0   470           3,200                  320   250      710      450  \n",
      "1    60             280                                80       50  \n",
      "2   660           2,820                  430   310      930      600  \n",
      "3   280           2,160                  210   150      430      260  \n",
      "4  3750          12,000                 2140  1530     4510     3130  \n"
     ]
    }
   ],
   "source": [
    "# Preview the data\n",
    "print(csv_df.head())"
   ]
  },
  {
   "cell_type": "code",
   "execution_count": 418,
   "metadata": {},
   "outputs": [
    {
     "name": "stdout",
     "output_type": "stream",
     "text": [
      "Index(['State', 'Brain/ nervous system', 'Female breast', 'Colon & rectum',\n",
      "       'Leukemia', 'Liver', 'Lung & bronchus', 'Non-Hodgkin Lymphoma', 'Ovary',\n",
      "       'Pancreas', 'Prostate'],\n",
      "      dtype='object')\n"
     ]
    }
   ],
   "source": [
    "print(csv_df.columns)"
   ]
  },
  {
   "cell_type": "code",
   "execution_count": 420,
   "metadata": {
    "id": "F1ylprfa0S0M"
   },
   "outputs": [],
   "source": [
    "# Scrape Cancer.org data\n",
    "cancer_url = \"https://www.cancer.org/research/cancer-facts-statistics/all-cancer-facts-figures/cancer-facts-figures-2017.html#:~:text=In%202017%2C%20there%20will%20be,cancer%20deaths%20in%20the%20US\"\n",
    "response = requests.get(cancer_url)"
   ]
  },
  {
   "cell_type": "code",
   "execution_count": 422,
   "metadata": {
    "colab": {
     "base_uri": "https://localhost:8080/"
    },
    "id": "0Hheqe6S1Z54",
    "outputId": "26ffff61-c4b8-4c1e-de49-c92be23cce0f"
   },
   "outputs": [
    {
     "name": "stdout",
     "output_type": "stream",
     "text": [
      "Number of tables found: 0\n"
     ]
    }
   ],
   "source": [
    "# Parse HTML content\n",
    "soup = BeautifulSoup(response.text, 'html.parser')\n",
    "tables = soup.find_all('table')\n",
    "print(f\"Number of tables found: {len(tables)}\")"
   ]
  },
  {
   "cell_type": "code",
   "execution_count": 424,
   "metadata": {
    "colab": {
     "base_uri": "https://localhost:8080/"
    },
    "id": "KW5qqpmY1id6",
    "outputId": "70cdf86a-21e1-4ab1-f7a0-f25f748b734d"
   },
   "outputs": [
    {
     "name": "stdout",
     "output_type": "stream",
     "text": [
      "Paragraph 1:\n",
      "Español\n",
      "\n",
      "Paragraph 2:\n",
      "PDFs by language\n",
      "\n",
      "Paragraph 3:\n",
      "Español\n",
      "\n",
      "Paragraph 4:\n",
      "PDFs by language\n",
      "\n",
      "Paragraph 5:\n",
      "Our 24/7 cancer helpline provides information and answers for people dealing with cancer. We can connect you with trained cancer information specialists who will answer questions about a cancer diagnosis and provide guidance and a compassionate ear. \n",
      "\n",
      "Paragraph 6:\n",
      "\n",
      "\n",
      "Paragraph 7:\n",
      "Chat live online\n",
      "\n",
      "Paragraph 8:\n",
      "Select the Live Chat button at the bottom of the page \n",
      "\n",
      "Paragraph 9:\n",
      "\n",
      "\n",
      "Paragraph 10:\n",
      "Call us at 1-800-227-2345\n",
      "\n",
      "Failed to fetch the page. Status code: 200\n"
     ]
    }
   ],
   "source": [
    "# Extract all paragraphs\n",
    "# Replace 'p' with the tag containing your data\n",
    "paragraphs = soup.find_all('p')\n",
    "for i, p in enumerate(paragraphs[:10]):  # Display the first 10 paragraphs\n",
    "        print(f\"Paragraph {i+1}:\\n{p.text}\\n\")\n",
    "else:\n",
    "    print(f\"Failed to fetch the page. Status code: {response.status_code}\")"
   ]
  },
  {
   "cell_type": "code",
   "execution_count": 426,
   "metadata": {
    "colab": {
     "base_uri": "https://localhost:8080/"
    },
    "id": "Y7-D2Xyz20ly",
    "outputId": "67858472-3926-4bc5-ba03-e306f418312d"
   },
   "outputs": [
    {
     "name": "stdout",
     "output_type": "stream",
     "text": [
      "Cancer.org Extracted Text:\n",
      "1: Cancer Facts & Figures 2017     | American Cancer Society\n",
      "2: Skip to main content\n",
      "3: ×\n",
      "4: English\n",
      "5: English\n",
      "6: Español\n",
      "7: Esta página\n",
      "8: Página inicial\n",
      "9: PDFs by language\n",
      "10: Arabic (اللغة العربية)\n"
     ]
    }
   ],
   "source": [
    "# Fetch the webpage\n",
    "response = requests.get(cancer_url)\n",
    "if response.status_code == 200:\n",
    "    soup = BeautifulSoup(response.text, 'html.parser')\n",
    "\n",
    "    # Extract relevant sections, e.g., text content\n",
    "    all_text = [text for text in soup.stripped_strings]\n",
    "    print(\"Cancer.org Extracted Text:\")\n",
    "    for i, text in enumerate(all_text[:10]):  # Preview first 10 lines\n",
    "        print(f\"{i + 1}: {text}\")\n",
    "else:\n",
    "    print(f\"Failed to fetch the page. Status code: {response.status_code}\")"
   ]
  },
  {
   "cell_type": "code",
   "execution_count": 428,
   "metadata": {
    "colab": {
     "base_uri": "https://localhost:8080/",
     "height": 315
    },
    "id": "wFnq913B35RQ",
    "outputId": "d6f5400d-3aa6-44fc-ec53-dad9c6556213"
   },
   "outputs": [],
   "source": [
    "from selenium import webdriver"
   ]
  },
  {
   "cell_type": "code",
   "execution_count": 430,
   "metadata": {
    "id": "7OZ9tlJlMpQ-"
   },
   "outputs": [],
   "source": [
    "# Set up Selenium WebDriver\n",
    "options = webdriver.ChromeOptions()\n",
    "options.add_argument('--headless')\n",
    "options.add_argument('--no-sandbox')\n",
    "options.add_argument('--disable-dev-shm-usage')\n",
    "driver = webdriver.Chrome(options=options)"
   ]
  },
  {
   "cell_type": "code",
   "execution_count": 431,
   "metadata": {
    "colab": {
     "base_uri": "https://localhost:8080/"
    },
    "id": "xaC70NTZN3A_",
    "outputId": "095c1d69-3ac0-4d8f-a718-4ca66bcdb008"
   },
   "outputs": [
    {
     "name": "stdout",
     "output_type": "stream",
     "text": [
      "Extracting text from dynamically rendered webpage:\n",
      "Text 1: Cancer Facts & Figures 2017     | American Cancer Society\n",
      "Text 2: Skip to main content\n",
      "Text 3: ×\n",
      "Text 4: English\n",
      "Text 5: English\n",
      "Text 6: Español\n",
      "Text 7: Esta página\n",
      "Text 8: Página inicial\n",
      "Text 9: PDFs by language\n",
      "Text 10: Arabic (اللغة العربية)\n",
      "Text 11: Chinese (简体中文)\n",
      "Text 12: French (Français)\n",
      "Text 13: Haitian Creole (Kreyòl Ayisyen)\n",
      "Text 14: Hindi (जानकारी)\n",
      "Text 15: Korean (한국어)\n",
      "Text 16: Polish (język polski)\n",
      "Text 17: Portuguese (Português)\n",
      "Text 18: Russian (Русский)\n",
      "Text 19: Spanish (Español)\n",
      "Text 20: Tagalog (Tagalog)\n",
      "Text 21: Ukrainian (Українська)\n",
      "Text 22: Vietnamese (Tiếng Việt)\n",
      "Text 23: All Languages\n",
      "Text 24: Contact Us\n",
      "Text 25: 800.227.2345\n",
      "Text 26: Cancer Help\n",
      "Text 27: Sign Up For Email\n",
      "Text 28: All About Cancer\n",
      "Text 29: Cancer Types\n",
      "Text 30: Breast Cancer\n",
      "Text 31: Colon & Rectal Cancer\n",
      "Text 32: Lung Cancer\n",
      "Text 33: Prostate Cancer\n",
      "Text 34: Skin Cancer\n",
      "Text 35: Cancer in Children\n",
      "Text 36: All Cancer Types\n",
      "Text 37: Understanding Cancer\n",
      "Text 38: What Is Cancer?\n",
      "Text 39: Cancer Glossary\n",
      "Text 40: Anatomy Gallery\n",
      "Text 41: Risk & Prevention\n",
      "Text 42: Genetics\n",
      "Text 43: Tobacco\n",
      "Text 44: HPV\n",
      "Text 45: Diet & Physical Activity\n",
      "Text 46: Sun Safety\n",
      "Text 47: Cancer Risk Assessment\n",
      "Text 48: Screening\n",
      "Text 49: Diagnosis & Staging\n",
      "Text 50: Signs & Symptoms\n",
      "Text 51: Exams & Tests\n",
      "Text 52: Staging\n",
      "Text 53: Cancer Care\n",
      "Text 54: Finding Care\n",
      "Text 55: Making Treatment Decisions\n",
      "Text 56: Treatment\n",
      "Text 57: Side Effects\n",
      "Text 58: Palliative Care\n",
      "Text 59: Advanced Cancer\n",
      "Text 60: Patient Navigation\n",
      "Text 61: Financial & Insurance Matters\n",
      "Text 62: End of Life Care\n",
      "Text 63: Coping & Survivorship\n",
      "Text 64: Caregivers & Family\n",
      "Text 65: When Your Child Has Cancer\n",
      "Text 66: Adolescents & Young Adults\n",
      "Text 67: Veterans\n",
      "Text 68: For Health Professionals\n",
      "Text 69: Cancer News\n",
      "Text 70: Bookstore\n",
      "Text 71: Explore All About Cancer\n",
      "Text 72: All About Cancer\n",
      "Text 73: Back\n",
      "Text 74: Explore All About Cancer\n",
      "Text 75: Cancer Types\n",
      "Text 76: Breast Cancer\n",
      "Text 77: Colon & Rectal Cancer\n",
      "Text 78: Lung Cancer\n",
      "Text 79: Prostate Cancer\n",
      "Text 80: Skin Cancer\n",
      "Text 81: Cancer in Children\n",
      "Text 82: All Cancer Types\n",
      "Text 83: Understanding Cancer\n",
      "Text 84: What Is Cancer?\n",
      "Text 85: Cancer Glossary\n",
      "Text 86: Anatomy Gallery\n",
      "Text 87: Risk & Prevention\n",
      "Text 88: Genetics\n",
      "Text 89: Tobacco\n",
      "Text 90: HPV\n",
      "Text 91: Diet & Physical Activity\n",
      "Text 92: Sun Safety\n",
      "Text 93: Cancer Risk Assessment\n",
      "Text 94: Screening\n",
      "Text 95: Diagnosis & Staging\n",
      "Text 96: Signs & Symptoms\n",
      "Text 97: Exams & Tests\n",
      "Text 98: Staging\n",
      "Text 99: Cancer Care\n",
      "Text 100: Finding Care\n",
      "Text 101: Making Treatment Decisions\n",
      "Text 102: Treatment\n",
      "Text 103: Side Effects\n",
      "Text 104: Palliative Care\n",
      "Text 105: Advanced Cancer\n",
      "Text 106: Patient Navigation\n",
      "Text 107: Financial & Insurance Matters\n",
      "Text 108: End of Life Care\n",
      "Text 109: Coping & Survivorship\n",
      "Text 110: Caregivers & Family\n",
      "Text 111: When Your Child Has Cancer\n",
      "Text 112: Adolescents & Young Adults\n",
      "Text 113: Veterans\n",
      "Text 114: For Health Professionals\n",
      "Text 115: Cancer News\n",
      "Text 116: Bookstore\n",
      "Text 117: Programs & Services\n",
      "Text 118: Patient Programs\n",
      "Text 119: Free Rides to Treatment\n",
      "Text 120: Free Lodging During Treatment\n",
      "Text 121: ACS CARES™\n",
      "Text 122: Free Smoking Cessation Support\n",
      "Text 123: Connect with Survivors\n",
      "Text 124: Breast Cancer Support\n",
      "Text 125: Cancer Survivors Network\n",
      "Text 126: Reach To Recovery\n",
      "Text 127: Survivor Stories\n",
      "Text 128: 24/7 Cancer Helpline\n",
      "Text 129: Call us 1-800-227-2345\n",
      "Text 130: Resource Search\n",
      "Text 131: Explore Programs & Services\n",
      "Text 132: Programs & Services\n",
      "Text 133: Back\n",
      "Text 134: Explore Programs & Services\n",
      "Text 135: Patient Programs\n",
      "Text 136: Free Rides to Treatment\n",
      "Text 137: Free Lodging During Treatment\n",
      "Text 138: ACS CARES™\n",
      "Text 139: Free Smoking Cessation Support\n",
      "Text 140: Connect with Survivors\n",
      "Text 141: Breast Cancer Support\n",
      "Text 142: Cancer Survivors Network\n",
      "Text 143: Reach To Recovery\n",
      "Text 144: Survivor Stories\n",
      "Text 145: 24/7 Cancer Helpline\n",
      "Text 146: Call us 1-800-227-2345\n",
      "Text 147: Resource Search\n",
      "Text 148: Ways to Give\n",
      "Text 149: Donate Online\n",
      "Text 150: Become a Monthly Donor\n",
      "Text 151: Donate Now\n",
      "Text 152: Honor & Memorial Giving\n",
      "Text 153: Top 5 reasons to become a monthly donor\n",
      "Text 154: More Ways to Give\n",
      "Text 155: Donate by Mail or Phone\n",
      "Text 156: Donate Your Car\n",
      "Text 157: Donate Your Stuff\n",
      "Text 158: Donate DAF\n",
      "Text 159: Donate FAQs\n",
      "Text 160: Shop to Save Lives\n",
      "Text 161: ACS Shop\n",
      "Text 162: Events Shop\n",
      "Text 163: EverYou Store\n",
      "Text 164: Greeting Cards\n",
      "Text 165: Discovery Shops\n",
      "Text 166: Partner Promotions\n",
      "Text 167: Philanthropy\n",
      "Text 168: Wills, Trusts, and Legacy Giving\n",
      "Text 169: Donor Advised Funds (DAF)\n",
      "Text 170: IRA Charitable Rollover\n",
      "Text 171: Stock Gifts\n",
      "Text 172: Foundations\n",
      "Text 173: Corporate & Workplace Giving\n",
      "Text 174: Become a Corporate Partner\n",
      "Text 175: Make a Corporate Donation\n",
      "Text 176: Workplace Giving & Matching Funds\n",
      "Text 177: Organize a Workplace Fundraiser\n",
      "Text 178: Payroll Deductions\n",
      "Text 179: Fundraise\n",
      "Text 180: Explore Ways to Give\n",
      "Text 181: Ways to Give\n",
      "Text 182: Back\n",
      "Text 183: Explore Ways to Give\n",
      "Text 184: Donate Online\n",
      "Text 185: Become a Monthly Donor\n",
      "Text 186: Donate Now\n",
      "Text 187: Honor & Memorial Giving\n",
      "Text 188: Top 5 reasons to become a monthly donor\n",
      "Text 189: More Ways to Give\n",
      "Text 190: Donate by Mail or Phone\n",
      "Text 191: Donate Your Car\n",
      "Text 192: Donate Your Stuff\n",
      "Text 193: Donate DAF\n",
      "Text 194: Donate FAQs\n",
      "Text 195: Shop to Save Lives\n",
      "Text 196: ACS Shop\n",
      "Text 197: Events Shop\n",
      "Text 198: EverYou Store\n",
      "Text 199: Greeting Cards\n",
      "Text 200: Discovery Shops\n",
      "Text 201: Partner Promotions\n",
      "Text 202: Philanthropy\n",
      "Text 203: Wills, Trusts, and Legacy Giving\n",
      "Text 204: Donor Advised Funds (DAF)\n",
      "Text 205: IRA Charitable Rollover\n",
      "Text 206: Stock Gifts\n",
      "Text 207: Foundations\n",
      "Text 208: Corporate & Workplace Giving\n",
      "Text 209: Become a Corporate Partner\n",
      "Text 210: Make a Corporate Donation\n",
      "Text 211: Workplace Giving & Matching Funds\n",
      "Text 212: Organize a Workplace Fundraiser\n",
      "Text 213: Payroll Deductions\n",
      "Text 214: Fundraise\n",
      "Text 215: Get Involved\n",
      "Text 216: Fundraising Events\n",
      "Text 217: Relay For Life\n",
      "Text 218: Making Strides Against Breast Cancer Walk\n",
      "Text 219: Endurance Events\n",
      "Text 220: Galas, Balls, and Parties\n",
      "Text 221: Golf Tournaments\n",
      "Text 222: Start a Fundraiser\n",
      "Text 223: Create Your Own Fundraiser\n",
      "Text 224: Fundraise on Facebook\n",
      "Text 225: Youth Sports\n",
      "Text 226: Virtual Challenges\n",
      "Text 227: Volunteer\n",
      "Text 228: Be an Advocate\n",
      "Text 229: Volunteer Opportunities for Organizations\n",
      "Text 230: Young Professionals\n",
      "Text 231: Donate\n",
      "Text 232: Making Strides Against Breast Cancer\n",
      "Text 233: Explore Get Involved\n",
      "Text 234: Get Involved\n",
      "Text 235: Back\n",
      "Text 236: Explore Get Involved\n",
      "Text 237: Fundraising Events\n",
      "Text 238: Relay For Life\n",
      "Text 239: Making Strides Against Breast Cancer Walk\n",
      "Text 240: Endurance Events\n",
      "Text 241: Galas, Balls, and Parties\n",
      "Text 242: Golf Tournaments\n",
      "Text 243: Start a Fundraiser\n",
      "Text 244: Create Your Own Fundraiser\n",
      "Text 245: Fundraise on Facebook\n",
      "Text 246: Youth Sports\n",
      "Text 247: Virtual Challenges\n",
      "Text 248: Volunteer\n",
      "Text 249: Be an Advocate\n",
      "Text 250: Volunteer Opportunities for Organizations\n",
      "Text 251: Young Professionals\n",
      "Text 252: Donate\n",
      "Text 253: Making Strides Against Breast Cancer\n",
      "Text 254: Our Research\n",
      "Text 255: Highlights of ACS Cancer Research\n",
      "Text 256: ACS Research News\n",
      "Text 257: Apply for an ACS Grant\n",
      "Text 258: Grant Application and Review Process\n",
      "Text 259: Currently Funded Grants\n",
      "Text 260: Research We Conduct\n",
      "Text 261: Cancer Facts & Statistics\n",
      "Text 262: ACS Screening Guidelines\n",
      "Text 263: CPS-3: Cancer Prevention Study-3\n",
      "Text 264: VOICES of Black Women Study\n",
      "Text 265: Center for Diversity in Cancer Research (DICR) Training\n",
      "Text 266: For High School Females (SHE)\n",
      "Text 267: For College Undergraduates\n",
      "Text 268: For Post-Baccalaureate Fellows\n",
      "Text 269: ACS Research Team Bios\n",
      "Text 270: Early Cancer Detection Science\n",
      "Text 271: Extramural Discovery Science\n",
      "Text 272: Population Science\n",
      "Text 273: Surveillance & Health Equity Science\n",
      "Text 274: Research Tools\n",
      "Text 275: Cancer Atlas\n",
      "Text 276: Cancer Statistics Center\n",
      "Text 277: Glossary for Nonscientists\n",
      "Text 278: Research Events\n",
      "Text 279: Jiler Conference\n",
      "Text 280: Research Podcasts\n",
      "Text 281: New artificial intelligence (AI) tool improves the accuracy of a breast cancer diagnosis\n",
      "Text 282: Explore Our Research\n",
      "Text 283: Our Research\n",
      "Text 284: Back\n",
      "Text 285: Explore Our Research\n",
      "Text 286: Highlights of ACS Cancer Research\n",
      "Text 287: ACS Research News\n",
      "Text 288: Apply for an ACS Grant\n",
      "Text 289: Grant Application and Review Process\n",
      "Text 290: Currently Funded Grants\n",
      "Text 291: Research We Conduct\n",
      "Text 292: Cancer Facts & Statistics\n",
      "Text 293: ACS Screening Guidelines\n",
      "Text 294: CPS-3: Cancer Prevention Study-3\n",
      "Text 295: VOICES of Black Women Study\n",
      "Text 296: Center for Diversity in Cancer Research (DICR) Training\n",
      "Text 297: For High School Females (SHE)\n",
      "Text 298: For College Undergraduates\n",
      "Text 299: For Post-Baccalaureate Fellows\n",
      "Text 300: ACS Research Team Bios\n",
      "Text 301: Early Cancer Detection Science\n",
      "Text 302: Extramural Discovery Science\n",
      "Text 303: Population Science\n",
      "Text 304: Surveillance & Health Equity Science\n",
      "Text 305: Research Tools\n",
      "Text 306: Cancer Atlas\n",
      "Text 307: Cancer Statistics Center\n",
      "Text 308: Glossary for Nonscientists\n",
      "Text 309: Research Events\n",
      "Text 310: Jiler Conference\n",
      "Text 311: Research Podcasts\n",
      "Text 312: New artificial intelligence (AI) tool improves the accuracy of a breast cancer diagnosis\n",
      "Text 313: About Us\n",
      "Text 314: Who We Are\n",
      "Text 315: 110 Years of Wins\n",
      "Text 316: Our Mission\n",
      "Text 317: Our Core Values\n",
      "Text 318: Our History\n",
      "Text 319: Our Leadership\n",
      "Text 320: Financials & Governance\n",
      "Text 321: What We Do\n",
      "Text 322: Encourage Prevention\n",
      "Text 323: Provide Support\n",
      "Text 324: Address Cancer Disparities\n",
      "Text 325: Foster Innovation\n",
      "Text 326: Support in Your State\n",
      "Text 327: Cancer Action Network\n",
      "Text 328: Global Cancer Programs\n",
      "Text 329: Our Partners\n",
      "Text 330: Become a Partner\n",
      "Text 331: Partner Promotions\n",
      "Text 332: Employee Engagement\n",
      "Text 333: Contact Us\n",
      "Text 334: Employment Opportunities\n",
      "Text 335: ACS News Room\n",
      "Text 336: Sign Up for Email\n",
      "Text 337: Sign Up for Text Messages\n",
      "Text 338: Explore About Us\n",
      "Text 339: About Us\n",
      "Text 340: Back\n",
      "Text 341: Explore About Us\n",
      "Text 342: Who We Are\n",
      "Text 343: 110 Years of Wins\n",
      "Text 344: Our Mission\n",
      "Text 345: Our Core Values\n",
      "Text 346: Our History\n",
      "Text 347: Our Leadership\n",
      "Text 348: Financials & Governance\n",
      "Text 349: What We Do\n",
      "Text 350: Encourage Prevention\n",
      "Text 351: Provide Support\n",
      "Text 352: Address Cancer Disparities\n",
      "Text 353: Foster Innovation\n",
      "Text 354: Support in Your State\n",
      "Text 355: Cancer Action Network\n",
      "Text 356: Global Cancer Programs\n",
      "Text 357: Our Partners\n",
      "Text 358: Become a Partner\n",
      "Text 359: Partner Promotions\n",
      "Text 360: Employee Engagement\n",
      "Text 361: Contact Us\n",
      "Text 362: Employment Opportunities\n",
      "Text 363: ACS News Room\n",
      "Text 364: Sign Up for Email\n",
      "Text 365: Sign Up for Text Messages\n",
      "Text 366: Search\n",
      "Text 367: Give In Honor & Memorial\n",
      "Text 368: Donate\n",
      "Text 369: https://searchapi.cancer.org\n",
      "Text 370: Search\n",
      "Text 371: Give In Honor & Memorial\n",
      "Text 372: Sign Up For Email\n",
      "Text 373: Sign Up For Text Messages\n",
      "Text 374: All About Cancer\n",
      "Text 375: Cancer Types\n",
      "Text 376: Breast Cancer\n",
      "Text 377: Colon & Rectal Cancer\n",
      "Text 378: Lung Cancer\n",
      "Text 379: Prostate Cancer\n",
      "Text 380: Skin Cancer\n",
      "Text 381: Cancer in Children\n",
      "Text 382: All Cancer Types\n",
      "Text 383: Understanding Cancer\n",
      "Text 384: What Is Cancer?\n",
      "Text 385: Cancer Glossary\n",
      "Text 386: Anatomy Gallery\n",
      "Text 387: Risk & Prevention\n",
      "Text 388: Genetics\n",
      "Text 389: Tobacco\n",
      "Text 390: HPV\n",
      "Text 391: Diet & Physical Activity\n",
      "Text 392: Sun Safety\n",
      "Text 393: Cancer Risk Assessment\n",
      "Text 394: Screening\n",
      "Text 395: Diagnosis & Staging\n",
      "Text 396: Signs & Symptoms\n",
      "Text 397: Exams & Tests\n",
      "Text 398: Staging\n",
      "Text 399: Cancer Care\n",
      "Text 400: Finding Care\n",
      "Text 401: Making Treatment Decisions\n",
      "Text 402: Treatment\n",
      "Text 403: Side Effects\n",
      "Text 404: Palliative Care\n",
      "Text 405: Advanced Cancer\n",
      "Text 406: Patient Navigation\n",
      "Text 407: Financial & Insurance Matters\n",
      "Text 408: End of Life Care\n",
      "Text 409: Coping & Survivorship\n",
      "Text 410: Caregivers & Family\n",
      "Text 411: When Your Child Has Cancer\n",
      "Text 412: Adolescents & Young Adults\n",
      "Text 413: Veterans\n",
      "Text 414: For Health Professionals\n",
      "Text 415: Cancer News\n",
      "Text 416: Bookstore\n",
      "Text 417: Explore All About Cancer\n",
      "Text 418: All About Cancer\n",
      "Text 419: Back\n",
      "Text 420: Explore All About Cancer\n",
      "Text 421: Cancer Types\n",
      "Text 422: Breast Cancer\n",
      "Text 423: Colon & Rectal Cancer\n",
      "Text 424: Lung Cancer\n",
      "Text 425: Prostate Cancer\n",
      "Text 426: Skin Cancer\n",
      "Text 427: Cancer in Children\n",
      "Text 428: All Cancer Types\n",
      "Text 429: Understanding Cancer\n",
      "Text 430: What Is Cancer?\n",
      "Text 431: Cancer Glossary\n",
      "Text 432: Anatomy Gallery\n",
      "Text 433: Risk & Prevention\n",
      "Text 434: Genetics\n",
      "Text 435: Tobacco\n",
      "Text 436: HPV\n",
      "Text 437: Diet & Physical Activity\n",
      "Text 438: Sun Safety\n",
      "Text 439: Cancer Risk Assessment\n",
      "Text 440: Screening\n",
      "Text 441: Diagnosis & Staging\n",
      "Text 442: Signs & Symptoms\n",
      "Text 443: Exams & Tests\n",
      "Text 444: Staging\n",
      "Text 445: Cancer Care\n",
      "Text 446: Finding Care\n",
      "Text 447: Making Treatment Decisions\n",
      "Text 448: Treatment\n",
      "Text 449: Side Effects\n",
      "Text 450: Palliative Care\n",
      "Text 451: Advanced Cancer\n",
      "Text 452: Patient Navigation\n",
      "Text 453: Financial & Insurance Matters\n",
      "Text 454: End of Life Care\n",
      "Text 455: Coping & Survivorship\n",
      "Text 456: Caregivers & Family\n",
      "Text 457: When Your Child Has Cancer\n",
      "Text 458: Adolescents & Young Adults\n",
      "Text 459: Veterans\n",
      "Text 460: For Health Professionals\n",
      "Text 461: Cancer News\n",
      "Text 462: Bookstore\n",
      "Text 463: Programs & Services\n",
      "Text 464: Patient Programs\n",
      "Text 465: Free Rides to Treatment\n",
      "Text 466: Free Lodging During Treatment\n",
      "Text 467: ACS CARES™\n",
      "Text 468: Free Smoking Cessation Support\n",
      "Text 469: Connect with Survivors\n",
      "Text 470: Breast Cancer Support\n",
      "Text 471: Cancer Survivors Network\n",
      "Text 472: Reach To Recovery\n",
      "Text 473: Survivor Stories\n",
      "Text 474: 24/7 Cancer Helpline\n",
      "Text 475: Call us 1-800-227-2345\n",
      "Text 476: Resource Search\n",
      "Text 477: Explore Programs & Services\n",
      "Text 478: Programs & Services\n",
      "Text 479: Back\n",
      "Text 480: Explore Programs & Services\n",
      "Text 481: Patient Programs\n",
      "Text 482: Free Rides to Treatment\n",
      "Text 483: Free Lodging During Treatment\n",
      "Text 484: ACS CARES™\n",
      "Text 485: Free Smoking Cessation Support\n",
      "Text 486: Connect with Survivors\n",
      "Text 487: Breast Cancer Support\n",
      "Text 488: Cancer Survivors Network\n",
      "Text 489: Reach To Recovery\n",
      "Text 490: Survivor Stories\n",
      "Text 491: 24/7 Cancer Helpline\n",
      "Text 492: Call us 1-800-227-2345\n",
      "Text 493: Resource Search\n",
      "Text 494: Ways to Give\n",
      "Text 495: Donate Online\n",
      "Text 496: Become a Monthly Donor\n",
      "Text 497: Donate Now\n",
      "Text 498: Honor & Memorial Giving\n",
      "Text 499: Top 5 reasons to become a monthly donor\n",
      "Text 500: More Ways to Give\n",
      "Text 501: Donate by Mail or Phone\n",
      "Text 502: Donate Your Car\n",
      "Text 503: Donate Your Stuff\n",
      "Text 504: Donate DAF\n",
      "Text 505: Donate FAQs\n",
      "Text 506: Shop to Save Lives\n",
      "Text 507: ACS Shop\n",
      "Text 508: Events Shop\n",
      "Text 509: EverYou Store\n",
      "Text 510: Greeting Cards\n",
      "Text 511: Discovery Shops\n",
      "Text 512: Partner Promotions\n",
      "Text 513: Philanthropy\n",
      "Text 514: Wills, Trusts, and Legacy Giving\n",
      "Text 515: Donor Advised Funds (DAF)\n",
      "Text 516: IRA Charitable Rollover\n",
      "Text 517: Stock Gifts\n",
      "Text 518: Foundations\n",
      "Text 519: Corporate & Workplace Giving\n",
      "Text 520: Become a Corporate Partner\n",
      "Text 521: Make a Corporate Donation\n",
      "Text 522: Workplace Giving & Matching Funds\n",
      "Text 523: Organize a Workplace Fundraiser\n",
      "Text 524: Payroll Deductions\n",
      "Text 525: Fundraise\n",
      "Text 526: Explore Ways to Give\n",
      "Text 527: Ways to Give\n",
      "Text 528: Back\n",
      "Text 529: Explore Ways to Give\n",
      "Text 530: Donate Online\n",
      "Text 531: Become a Monthly Donor\n",
      "Text 532: Donate Now\n",
      "Text 533: Honor & Memorial Giving\n",
      "Text 534: Top 5 reasons to become a monthly donor\n",
      "Text 535: More Ways to Give\n",
      "Text 536: Donate by Mail or Phone\n",
      "Text 537: Donate Your Car\n",
      "Text 538: Donate Your Stuff\n",
      "Text 539: Donate DAF\n",
      "Text 540: Donate FAQs\n",
      "Text 541: Shop to Save Lives\n",
      "Text 542: ACS Shop\n",
      "Text 543: Events Shop\n",
      "Text 544: EverYou Store\n",
      "Text 545: Greeting Cards\n",
      "Text 546: Discovery Shops\n",
      "Text 547: Partner Promotions\n",
      "Text 548: Philanthropy\n",
      "Text 549: Wills, Trusts, and Legacy Giving\n",
      "Text 550: Donor Advised Funds (DAF)\n",
      "Text 551: IRA Charitable Rollover\n",
      "Text 552: Stock Gifts\n",
      "Text 553: Foundations\n",
      "Text 554: Corporate & Workplace Giving\n",
      "Text 555: Become a Corporate Partner\n",
      "Text 556: Make a Corporate Donation\n",
      "Text 557: Workplace Giving & Matching Funds\n",
      "Text 558: Organize a Workplace Fundraiser\n",
      "Text 559: Payroll Deductions\n",
      "Text 560: Fundraise\n",
      "Text 561: Get Involved\n",
      "Text 562: Fundraising Events\n",
      "Text 563: Relay For Life\n",
      "Text 564: Making Strides Against Breast Cancer Walk\n",
      "Text 565: Endurance Events\n",
      "Text 566: Galas, Balls, and Parties\n",
      "Text 567: Golf Tournaments\n",
      "Text 568: Start a Fundraiser\n",
      "Text 569: Create Your Own Fundraiser\n",
      "Text 570: Fundraise on Facebook\n",
      "Text 571: Youth Sports\n",
      "Text 572: Virtual Challenges\n",
      "Text 573: Volunteer\n",
      "Text 574: Be an Advocate\n",
      "Text 575: Volunteer Opportunities for Organizations\n",
      "Text 576: Young Professionals\n",
      "Text 577: Donate\n",
      "Text 578: Making Strides Against Breast Cancer\n",
      "Text 579: Explore Get Involved\n",
      "Text 580: Get Involved\n",
      "Text 581: Back\n",
      "Text 582: Explore Get Involved\n",
      "Text 583: Fundraising Events\n",
      "Text 584: Relay For Life\n",
      "Text 585: Making Strides Against Breast Cancer Walk\n",
      "Text 586: Endurance Events\n",
      "Text 587: Galas, Balls, and Parties\n",
      "Text 588: Golf Tournaments\n",
      "Text 589: Start a Fundraiser\n",
      "Text 590: Create Your Own Fundraiser\n",
      "Text 591: Fundraise on Facebook\n",
      "Text 592: Youth Sports\n",
      "Text 593: Virtual Challenges\n",
      "Text 594: Volunteer\n",
      "Text 595: Be an Advocate\n",
      "Text 596: Volunteer Opportunities for Organizations\n",
      "Text 597: Young Professionals\n",
      "Text 598: Donate\n",
      "Text 599: Making Strides Against Breast Cancer\n",
      "Text 600: Our Research\n",
      "Text 601: Highlights of ACS Cancer Research\n",
      "Text 602: ACS Research News\n",
      "Text 603: Apply for an ACS Grant\n",
      "Text 604: Grant Application and Review Process\n",
      "Text 605: Currently Funded Grants\n",
      "Text 606: Research We Conduct\n",
      "Text 607: Cancer Facts & Statistics\n",
      "Text 608: ACS Screening Guidelines\n",
      "Text 609: CPS-3: Cancer Prevention Study-3\n",
      "Text 610: VOICES of Black Women Study\n",
      "Text 611: Center for Diversity in Cancer Research (DICR) Training\n",
      "Text 612: For High School Females (SHE)\n",
      "Text 613: For College Undergraduates\n",
      "Text 614: For Post-Baccalaureate Fellows\n",
      "Text 615: ACS Research Team Bios\n",
      "Text 616: Early Cancer Detection Science\n",
      "Text 617: Extramural Discovery Science\n",
      "Text 618: Population Science\n",
      "Text 619: Surveillance & Health Equity Science\n",
      "Text 620: Research Tools\n",
      "Text 621: Cancer Atlas\n",
      "Text 622: Cancer Statistics Center\n",
      "Text 623: Glossary for Nonscientists\n",
      "Text 624: Research Events\n",
      "Text 625: Jiler Conference\n",
      "Text 626: Research Podcasts\n",
      "Text 627: New artificial intelligence (AI) tool improves the accuracy of a breast cancer diagnosis\n",
      "Text 628: Explore Our Research\n",
      "Text 629: Our Research\n",
      "Text 630: Back\n",
      "Text 631: Explore Our Research\n",
      "Text 632: Highlights of ACS Cancer Research\n",
      "Text 633: ACS Research News\n",
      "Text 634: Apply for an ACS Grant\n",
      "Text 635: Grant Application and Review Process\n",
      "Text 636: Currently Funded Grants\n",
      "Text 637: Research We Conduct\n",
      "Text 638: Cancer Facts & Statistics\n",
      "Text 639: ACS Screening Guidelines\n",
      "Text 640: CPS-3: Cancer Prevention Study-3\n",
      "Text 641: VOICES of Black Women Study\n",
      "Text 642: Center for Diversity in Cancer Research (DICR) Training\n",
      "Text 643: For High School Females (SHE)\n",
      "Text 644: For College Undergraduates\n",
      "Text 645: For Post-Baccalaureate Fellows\n",
      "Text 646: ACS Research Team Bios\n",
      "Text 647: Early Cancer Detection Science\n",
      "Text 648: Extramural Discovery Science\n",
      "Text 649: Population Science\n",
      "Text 650: Surveillance & Health Equity Science\n",
      "Text 651: Research Tools\n",
      "Text 652: Cancer Atlas\n",
      "Text 653: Cancer Statistics Center\n",
      "Text 654: Glossary for Nonscientists\n",
      "Text 655: Research Events\n",
      "Text 656: Jiler Conference\n",
      "Text 657: Research Podcasts\n",
      "Text 658: New artificial intelligence (AI) tool improves the accuracy of a breast cancer diagnosis\n",
      "Text 659: About Us\n",
      "Text 660: Who We Are\n",
      "Text 661: 110 Years of Wins\n",
      "Text 662: Our Mission\n",
      "Text 663: Our Core Values\n",
      "Text 664: Our History\n",
      "Text 665: Our Leadership\n",
      "Text 666: Financials & Governance\n",
      "Text 667: What We Do\n",
      "Text 668: Encourage Prevention\n",
      "Text 669: Provide Support\n",
      "Text 670: Address Cancer Disparities\n",
      "Text 671: Foster Innovation\n",
      "Text 672: Support in Your State\n",
      "Text 673: Cancer Action Network\n",
      "Text 674: Global Cancer Programs\n",
      "Text 675: Our Partners\n",
      "Text 676: Become a Partner\n",
      "Text 677: Partner Promotions\n",
      "Text 678: Employee Engagement\n",
      "Text 679: Contact Us\n",
      "Text 680: Employment Opportunities\n",
      "Text 681: ACS News Room\n",
      "Text 682: Sign Up for Email\n",
      "Text 683: Sign Up for Text Messages\n",
      "Text 684: Explore About Us\n",
      "Text 685: About Us\n",
      "Text 686: Back\n",
      "Text 687: Explore About Us\n",
      "Text 688: Who We Are\n",
      "Text 689: 110 Years of Wins\n",
      "Text 690: Our Mission\n",
      "Text 691: Our Core Values\n",
      "Text 692: Our History\n",
      "Text 693: Our Leadership\n",
      "Text 694: Financials & Governance\n",
      "Text 695: What We Do\n",
      "Text 696: Encourage Prevention\n",
      "Text 697: Provide Support\n",
      "Text 698: Address Cancer Disparities\n",
      "Text 699: Foster Innovation\n",
      "Text 700: Support in Your State\n",
      "Text 701: Cancer Action Network\n",
      "Text 702: Global Cancer Programs\n",
      "Text 703: Our Partners\n",
      "Text 704: Become a Partner\n",
      "Text 705: Partner Promotions\n",
      "Text 706: Employee Engagement\n",
      "Text 707: Contact Us\n",
      "Text 708: Employment Opportunities\n",
      "Text 709: ACS News Room\n",
      "Text 710: Sign Up for Email\n",
      "Text 711: Sign Up for Text Messages\n",
      "Text 712: Contact Us\n",
      "Text 713: 800.227.2345\n",
      "Text 714: Cancer Help\n",
      "Text 715: English\n",
      "Text 716: English\n",
      "Text 717: Español\n",
      "Text 718: Esta página\n",
      "Text 719: Página inicial\n",
      "Text 720: PDFs by language\n",
      "Text 721: Arabic (اللغة العربية)\n",
      "Text 722: Chinese (简体中文)\n",
      "Text 723: French (Français)\n",
      "Text 724: Haitian Creole (Kreyòl Ayisyen)\n",
      "Text 725: Hindi (जानकारी)\n",
      "Text 726: Korean (한국어)\n",
      "Text 727: Polish (język polski)\n",
      "Text 728: Portuguese (Português)\n",
      "Text 729: Russian (Русский)\n",
      "Text 730: Spanish (Español)\n",
      "Text 731: Tagalog (Tagalog)\n",
      "Text 732: Ukrainian (Українська)\n",
      "Text 733: Vietnamese (Tiếng Việt)\n",
      "Text 734: All Languages\n",
      "Text 735: Donate\n",
      "Text 736: https://searchapi.cancer.org\n",
      "Text 737: Online Help\n",
      "Text 738: Our 24/7 cancer helpline provides information and answers for people dealing with cancer. We can connect you with trained cancer information specialists who will answer questions about a cancer diagnosis and provide guidance and a compassionate ear.\n",
      "Text 739: Chat live online\n",
      "Text 740: Select the\n",
      "Text 741: Live Chat\n",
      "Text 742: button at the bottom of the page\n",
      "Text 743: Call us at\n",
      "Text 744: 1-800-227-2345\n",
      "Text 745: Available any time of day or night\n",
      "Text 746: Our highly trained specialists are available 24/7 via phone and on weekdays can assist through online chat. We connect patients, caregivers, and family members with essential services and resources at every step of their cancer journey. Ask us how you can get involved and support the fight against cancer. Some of the topics we can assist with include:\n",
      "Text 747: Referrals to patient-related programs or resources\n",
      "Text 748: Donations, website, or event-related assistance\n",
      "Text 749: Tobacco-related topics\n",
      "Text 750: Volunteer opportunities\n",
      "Text 751: Cancer Information\n",
      "Text 752: For medical questions, we encourage you to review our information with your doctor.\n",
      "Text 753: Our Research\n",
      "Text 754: Cancer Facts and Statistics\n",
      "Text 755: All Cancer Facts and Figures\n",
      "Text 756: Cancer Facts and Statistics Navigation\n",
      "Text 757: Cancer Facts and Statistics\n",
      "Text 758: Back\n",
      "Text 759: Cancer Facts & Figures AANHPI\n",
      "Text 760: Global Cancer Facts & Figures\n",
      "Text 761: All Cancer Facts and Figures\n",
      "Text 762: 2024 Cancer Facts & Figures\n",
      "Text 763: 2023 Cancer Facts & Figures\n",
      "Text 764: 2022 Cancer Facts & Figures\n",
      "Text 765: 2021 Cancer Facts & Figures\n",
      "Text 766: 2020 Cancer Facts & Figures\n",
      "Text 767: 2019 Cancer Facts & Figures\n",
      "Text 768: 2018 Cancer Facts & Figures\n",
      "Text 769: 2017 Cancer Facts & Figures\n",
      "Text 770: 2016 Cancer Facts & Figures\n",
      "Text 771: 2015 Cancer Facts & Figures\n",
      "Text 772: 2014 Cancer Facts & Figures\n",
      "Text 773: 2013 Cancer Facts & Figures\n",
      "Text 774: 2012 Cancer Facts & Figures\n",
      "Text 775: 2011 Cancer Facts & Figures\n",
      "Text 776: 2010 Cancer Facts & Figures\n",
      "Text 777: 2009 Cancer Facts & Figures\n",
      "Text 778: 2008 Cancer Facts & Figures\n",
      "Text 779: 2007 Cancer Facts & Figures\n",
      "Text 780: Breast Cancer Facts & Figures\n",
      "Text 781: Colorectal Cancer Facts & Figures\n",
      "Text 782: Cancer Prevention & Early Detection Facts & Figures\n",
      "Text 783: Cancer Treatment & Survivorship Facts & Figures\n",
      "Text 784: Cancer Facts & Figures for African American/Black People\n",
      "Text 785: Cancer Facts & Figures for Hispanic and Latino People\n",
      "Text 786: The Global Burden of Cancer in Women\n",
      "Text 787: Cancer Facts & Figures 2017\n",
      "Text 788: Note: This is not the most recent information. Please visit\n",
      "Text 789: cancer.org/statistics\n",
      "Text 790: to access the current version of Cancer Facts and Figures.\n",
      "Text 791: This annual report provides the estimated numbers of new cancer cases and deaths in 2017, as well as current cancer incidence, mortality, and survival statistics and information on cancer symptoms, risk factors, early detection, and treatment. In 2017, there will be an estimated 1,688,780 new cancer cases diagnosed and 600,920 cancer deaths in the US.\n",
      "Text 792: (\n",
      "Text 793: Please note:\n",
      "Text 794: The projected numbers of new cancer cases and deaths in 2017 should not be compared with previous years to track cancer trends because they are model-based and vary from year to year for reasons other than changes in cancer occurrence. Age-standardized incidence and death rates should be used to measure cancer trends.)\n",
      "Text 795: DOWNLOAD CANCER FACTS & FIGURES 2017\n",
      "Text 796: Cancer Facts & Figures 2017\n",
      "Text 797: is accompanied by\n",
      "Text 798: Cancer Statistics 2017\n",
      "Text 799: , a scientific paper published in the American Cancer Society journal,\n",
      "Text 800: CA: A Cancer Journal for Clinicians.\n",
      "Text 801: Cancer Facts & Figures 2017 Special Section: Rare Cancers in Adults\n",
      "Text 802: In 2017, nearly 13% of all cancers diagnosed in adults ages 20 and older will be rare cancers, defined in this report as a cancer with fewer than 6 cases per 100,000 people per year. This year’s special section reviews statistics for 28 rare cancers, including incidence and mortality rates and trends, stage at diagnosis, and survival, and also provides an overview of risk factors and symptoms for select cancers. It is intended to inform anyone interested in learning more about rare cancers in adults, including policy makers, researchers, clinicians, cancer control advocates, patients, and caregivers. (Childhood and adolescent cancers are reviewed in the special section of\n",
      "Text 803: Cancer Facts & Figures 2014\n",
      "Text 804: .)\n",
      "Text 805: Cancer Facts & Figures 2017 Supplemental Data\n",
      "Text 806: This supplemental data set provides the estimated numbers of new cancer cases and deaths in 2017 by state for 21 cancer sites and by age group for the four major sites (lung, breast, colorectum, and prostate). Also included is the lifetime probability of developing and dying from cancer for 23 cancer types. These data can be used as a resource for cancer control planning at the state level, as well as to address questions from the media or constituents. Divisions are encouraged to share this information with staff and volunteers, and to use it with state and local officials, reporters, and other public health and advocacy groups in local communities.\n",
      "Text 807: Estimated New Cases for the Four Major Cancers by Sex & Age Group, 2017 (PDF)\n",
      "Text 808: Estimated Deaths for the Four Major Cancers by Sex & Age Group, 2017 (PDF)\n",
      "Text 809: Estimated New Cases & Deaths by State for 21 Cancer Sites, 2017 (PDF)\n",
      "Text 810: Lifetime Probability of Developing & Dying from Cancer for 23 Sites, 2011-2013 (PDF)\n",
      "Text 811: Downloadable Data\n",
      "Text 812: Download key cancer trend data from Cancer Facts & Figures 2017. Please note that all material using this data should credit the \"\n",
      "Text 813: American Cancer Society, Cancer Facts & Figures 2017\n",
      "Text 814: .\"\n",
      "Text 815: Trends in Age-adjusted Cancer Death Rates by Site, Males, US, 1930-2014 (EXCEL)\n",
      "Text 816: Trends in Age-adjusted Cancer Death Rates by Site, Females, US, 1930-2014 (EXCEL)\n",
      "Text 817: Most Requested Tables and Figures\n",
      "Text 818: The most requested tables and figures from Cancer Facts & Figures 2017 have been assembled in an electronic format (PDF) to make it easy for you to use them. Please note that all graphic material should credit the \"\n",
      "Text 819: American Cancer Society, Cancer Facts & Figures 2017\n",
      "Text 820: .”\n",
      "Text 821: Trends in Age-adjusted Cancer Death Rates by Site, Males, US, 1930-2014 (PDF)\n",
      "Text 822: Trends in Age-adjusted Cancer Death Rates by Site, Females, US, 1930-2014 (PDF)\n",
      "Text 823: Estimated Number of New Cancer Cases and Deaths by Sex, US, 2017 (PDF)\n",
      "Text 824: Estimated Number of New Cases for Selected Cancers by State, US, 2017 (PDF)\n",
      "Text 825: Estimated Number of Deaths for Selected Cancers by State, US, 2017 (PDF)\n",
      "Text 826: Leading Sites of New Cancer Cases and Deaths - 2017 Estimates (PDF)\n",
      "Text 827: Probability of Developing Invasive Cancer During Selected Age Intervals by Sex, US, 2011-2013 (PDF)\n",
      "Text 828: Incidence Rates for Selected Cancers by Race and Ethnicity, US, 2009-2013 (PDF)\n",
      "Text 829: Death Rates for Selected Cancers by Race and Ethnicity, US, 2010-2014 (PDF)\n",
      "Text 830: Geographic Patterns in Lung Cancer Death Rates by State, US, 2010-2014 (PDF)\n",
      "Text 831: Cancer Statistics 2017 Slide Presentation\n",
      "Text 832: The following presentation provides an overview of current cancer statistics in the US.\n",
      "Text 833: Cancer Statistics 2017 Slide Presentation (PPT)\n",
      "Text 834: Interactive Cancer Statistics Center\n",
      "Text 835: Visit the American Cancer Society’s Cancer Statistics Center website to explore, interact with, and share cancer statistics.\n",
      "Text 836: Help us end cancer as we know it, for everyone.\n",
      "Text 837: Donate with Confidence\n",
      "Text 838: Cancer information, answers, and hope. Available every minute of every day.\n",
      "Text 839: Follow Us\n",
      "Text 840: Call Us\n",
      "Text 841: 800.227.2345\n",
      "Text 842: Sign Up for Email\n",
      "Text 843: Sign Up for Text Messages\n",
      "Text 844: Cancer Information\n",
      "Text 845: Cancer Prevention & Detection\n",
      "Text 846: Understanding Cancer\n",
      "Text 847: Signs & Symptoms of Cancer\n",
      "Text 848: Cancer Treatment\n",
      "Text 849: ACS Research Highlights\n",
      "Text 850: Cancer Facts & Statistics\n",
      "Text 851: News and Stories\n",
      "Text 852: Glossary\n",
      "Text 853: For Health Care Professionals\n",
      "Text 854: ACS Fundraisers\n",
      "Text 855: Making Strides Against Breast Cancer Walks\n",
      "Text 856: Relay For Life Events\n",
      "Text 857: American Cancer Society on Campus\n",
      "Text 858: Coaches vs. Cancer\n",
      "Text 859: Galas, Balls & Parties\n",
      "Text 860: Ways to Give\n",
      "Text 861: Memorial Giving\n",
      "Text 862: Planned Giving\n",
      "Text 863: Philanthropy\n",
      "Text 864: Donate a Car\n",
      "Text 865: Donate by Mail or Phone\n",
      "Text 866: About ACS\n",
      "Text 867: Contact Us\n",
      "Text 868: ACS in Your Community\n",
      "Text 869: Employment\n",
      "Text 870: Information for Suppliers\n",
      "Text 871: Report Fraud or Abuse\n",
      "Text 872: Sign Up for Email\n",
      "Text 873: Sign Up for Text Messages\n",
      "Text 874: Our Research\n",
      "Text 875: Cancer Action Network\n",
      "Text 876: Global Health\n",
      "Text 877: Policies\n",
      "Text 878: Our Volunteers\n",
      "Text 879: About ACS Programs & Services\n",
      "Text 880: Lodging During Treatment\n",
      "Text 881: Rides To Treatment\n",
      "Text 882: Breast Cancer Support\n",
      "Text 883: Hair Loss and Post-surgical Products\n",
      "Text 884: Connecting Cancer Survivors\n",
      "Text 885: More ACS Sites\n",
      "Text 886: Bookstore\n",
      "Text 887: Cancer Atlas\n",
      "Text 888: Cancer Statistics Center\n",
      "Text 889: ACS News Room\n",
      "Text 890: American Cancer Society Roundtables\n",
      "Text 891: Volunteer Community\n",
      "Text 892: Help\n",
      "Text 893: Site Map\n",
      "Text 894: Privacy Policy\n",
      "Text 895: Privacy Rights\n",
      "Text 896: Health Privacy Policy\n",
      "Text 897: Accessibility\n",
      "Text 898: Terms of Use\n",
      "Text 899: State Fundraising Notices\n",
      "Text 900: Site Comments\n",
      "Text 901: © 2025 American Cancer Society, Inc. All rights reserved. The American Cancer Society is a qualified 501(c)(3) tax-exempt organization. Tax ID Number: 13-1788491.\n",
      "Text 902: Cancer.org is provided courtesy of the Leo and Gloria Rosen family.\n",
      "Text 903: If this was helpful, donate to help fund patient support services, research, and cancer content updates.\n",
      "Text 904: Donate Now\n",
      "Text 905: Close\n",
      "Text 906: Cookie Policy\n",
      "Text 907: This website uses cookies and related technology that help the website function and that\n",
      "help us understand how you interact with it. You can manage these settings using the Data Sharing Settings link.\n",
      "Text 908: Privacy Policy\n",
      "Text 909: Data Sharing Settings\n",
      "Text 910: Reject All Cookies\n",
      "Text 911: Accept All Cookies\n",
      "Text 912: Cookie Preference Center\n",
      "Text 913: Your Opt Out Preference Signal is Honored\n",
      "Text 914: Your Privacy\n",
      "Text 915: Strictly Necessary Cookies\n",
      "Text 916: Performance Cookies\n",
      "Text 917: Functional Cookies\n",
      "Text 918: Targeting Cookies\n",
      "Text 919: Your Privacy\n",
      "Text 920: When you visit any website, it may store or retrieve information on your browser, mostly in the form of cookies. This information might be about you, your preferences or your device and is mostly used to make the site work as you expect it to. The information does not usually directly identify you, but it can give you a more personalized web experience. Because we respect your right to privacy, you can choose not to allow some types of cookies. Click on the different category headings to find out more and change our default settings. However, blocking some types of cookies may impact your experience of the site and the services we are able to offer.\n",
      "Text 921: Strictly Necessary Cookies\n",
      "Text 922: Always Active\n",
      "Text 923: These cookies are necessary for the website to function and cannot be switched off in our systems. They are usually only set in response to actions made by you which amount to a request for services, such as setting your privacy preferences, logging in or filling in forms.    You can set your browser to block or alert you about these cookies, but some parts of the site will not then work. These cookies do not store any personally identifiable information.\n",
      "Text 924: View Vendor Details‎\n",
      "Text 925: Performance Cookies\n",
      "Text 926: Performance Cookies\n",
      "Text 927: These cookies allow us to count visits and traffic sources so we can measure and improve the performance of our site. They help us to know which pages are the most and least popular and see how visitors move around the site.    All information these cookies collect is aggregated and therefore anonymous. If you do not allow these cookies we will not know when you have visited our site, and will not be able to monitor its performance.\n",
      "Text 928: View Vendor Details‎\n",
      "Text 929: Functional Cookies\n",
      "Text 930: Functional Cookies\n",
      "Text 931: These cookies enable the website to provide enhanced functionality and personalisation. They may be set by us or by third party providers whose services we have added to our pages.    If you do not allow these cookies then some or all of these services may not function properly.\n",
      "Text 932: View Vendor Details‎\n",
      "Text 933: Targeting Cookies\n",
      "Text 934: Targeting Cookies\n",
      "Text 935: These cookies may be set through our site by our advertising partners. They may be used by those companies to build a profile of your interests and show you relevant adverts on other sites.    They do not store directly personal information, but are based on uniquely identifying your browser and internet device. If you do not allow these cookies, you will experience less targeted advertising.\n",
      "Text 936: View Vendor Details‎\n",
      "Text 937: Back Button\n",
      "Text 938: Vendors List\n",
      "Text 939: Filter Button\n",
      "Text 940: Consent\n",
      "Text 941: Leg.Interest\n",
      "Text 942: checkbox label\n",
      "Text 943: label\n",
      "Text 944: checkbox label\n",
      "Text 945: label\n",
      "Text 946: checkbox label\n",
      "Text 947: label\n",
      "Text 948: Clear\n",
      "Text 949: checkbox label\n",
      "Text 950: label\n",
      "Text 951: Apply\n",
      "Text 952: Cancel\n",
      "Text 953: Confirm My Choices\n",
      "Text 954: Allow All\n"
     ]
    }
   ],
   "source": [
    "# Load the webpage\n",
    "driver.get(cancer_url)\n",
    "\n",
    "# Get the rendered HTML\n",
    "html = driver.page_source\n",
    "soup = BeautifulSoup(html, 'html.parser')\n",
    "\n",
    "# Extract all visible text\n",
    "print(\"Extracting text from dynamically rendered webpage:\")\n",
    "for i, text in enumerate(soup.stripped_strings, start=1):\n",
    "    print(f\"Text {i}: {text}\")\n",
    "\n",
    "driver.quit()"
   ]
  },
  {
   "cell_type": "code",
   "execution_count": 432,
   "metadata": {
    "id": "WI0P5X3pOB6S"
   },
   "outputs": [],
   "source": [
    "# Extract all visible text\n",
    "extracted_text = list(soup.stripped_strings)"
   ]
  },
  {
   "cell_type": "code",
   "execution_count": 433,
   "metadata": {
    "id": "4U64Ke0xPDXQ"
   },
   "outputs": [
    {
     "name": "stdout",
     "output_type": "stream",
     "text": [
      "Extracted Cancer Statistics (first 10):\n",
      "This annual report provides the estimated numbers of new cancer cases and deaths in 2017, as well as current cancer incidence, mortality, and survival statistics and information on cancer symptoms, risk factors, early detection, and treatment. In 2017, there will be an estimated 1,688,780 new cancer cases diagnosed and 600,920 cancer deaths in the US. (Please note: The projected numbers of new cancer cases and deaths in 2017 should not be compared with previous years to track cancer trends because they are model-based and vary from year to year for reasons other than changes in cancer occurrence. Age-standardized incidence and death rates should be used to measure cancer trends.)\n",
      "In 2017, nearly 13% of all cancers diagnosed in adults ages 20 and older will be rare cancers, defined in this report as a cancer with fewer than 6 cases per 100,000 people per year. This year’s special section reviews statistics for 28 rare cancers, including incidence and mortality rates and trends, stage at diagnosis, and survival, and also provides an overview of risk factors and symptoms for select cancers. It is intended to inform anyone interested in learning more about rare cancers in adults, including policy makers, researchers, clinicians, cancer control advocates, patients, and caregivers. (Childhood and adolescent cancers are reviewed in the special section of Cancer Facts & Figures 2014.)\n",
      "This supplemental data set provides the estimated numbers of new cancer cases and deaths in 2017 by state for 21 cancer sites and by age group for the four major sites (lung, breast, colorectum, and prostate). Also included is the lifetime probability of developing and dying from cancer for 23 cancer types. These data can be used as a resource for cancer control planning at the state level, as well as to address questions from the media or constituents. Divisions are encouraged to share this information with staff and volunteers, and to use it with state and local officials, reporters, and other public health and advocacy groups in local communities.\n"
     ]
    }
   ],
   "source": [
    "# Send a GET request to fetch the webpage content\n",
    "response = requests.get(cancer_url)\n",
    "\n",
    "if response.status_code == 200:\n",
    "    # Parse the HTML content of the webpage using BeautifulSoup\n",
    "    soup = BeautifulSoup(response.text, 'html.parser')\n",
    "\n",
    "    # Extract all paragraphs (or other relevant tags)\n",
    "    paragraphs = soup.find_all('p')  # You can also use 'h2', 'h3', etc., to get section headers\n",
    "\n",
    "    # we also find key numbers inside tables or divs, and inspect for them as well.\n",
    "    \n",
    "    # Searching for cancer-related statistics in the page\n",
    "    cancer_stats = []\n",
    "    for paragraph in paragraphs:\n",
    "        text = paragraph.get_text()\n",
    "        \n",
    "        # Identify cancer-related data, this is a placeholder for the actual matching logic\n",
    "        if \"cancer\" in text.lower() and (\"rate\" in text.lower() or \"death\" in text.lower() or \"incidence\" in text.lower()):\n",
    "            cancer_stats.append(text)\n",
    "    \n",
    "    # Print some of the extracted content to verify\n",
    "    print(\"Extracted Cancer Statistics (first 10):\")\n",
    "    for stat in cancer_stats[:10]:\n",
    "        print(stat)\n",
    "\n",
    "else:\n",
    "    print(f\"Failed to fetch the page. Status code: {response.status_code}\")"
   ]
  },
  {
   "cell_type": "code",
   "execution_count": 434,
   "metadata": {},
   "outputs": [
    {
     "name": "stdout",
     "output_type": "stream",
     "text": [
      "         Cancer Type  Cancer Cases (2017)  Cancer Deaths (2017)  \\\n",
      "0       Total Cancer            1688780.0              600920.0   \n",
      "1        Rare Cancer                  NaN                   NaN   \n",
      "2        Lung Cancer                  NaN                   NaN   \n",
      "3      Breast Cancer                  NaN                   NaN   \n",
      "4  Colorectal Cancer                  NaN                   NaN   \n",
      "5    Prostate Cancer                  NaN                   NaN   \n",
      "\n",
      "   Percentage of Rare Cancer Cases  Rare Cancer Criteria (cases per 100,000)  \\\n",
      "0                              NaN                                       NaN   \n",
      "1                             13.0                                       6.0   \n",
      "2                              NaN                                       NaN   \n",
      "3                              NaN                                       NaN   \n",
      "4                              NaN                                       NaN   \n",
      "5                              NaN                                       NaN   \n",
      "\n",
      "  Lifetime Probability (Developing Cancer)  \\\n",
      "0                                     None   \n",
      "1                                     None   \n",
      "2                                     None   \n",
      "3                                     None   \n",
      "4                                     None   \n",
      "5                                     None   \n",
      "\n",
      "  Lifetime Probability (Cancer Deaths)  Year  \n",
      "0                                 None  2017  \n",
      "1                                 None  2017  \n",
      "2                                 None  2017  \n",
      "3                                 None  2017  \n",
      "4                                 None  2017  \n",
      "5                                 None  2017  \n"
     ]
    }
   ],
   "source": [
    "data = {\n",
    "    \"Cancer Type\": [\"Total Cancer\", \"Rare Cancer\", \"Lung Cancer\", \"Breast Cancer\", \"Colorectal Cancer\", \"Prostate Cancer\"],\n",
    "    \"Cancer Cases (2017)\": [1688780, None, None, None, None, None],  # Total cancer cases for 2017\n",
    "    \"Cancer Deaths (2017)\": [600920, None, None, None, None, None],  # Total cancer deaths for 2017\n",
    "    \"Percentage of Rare Cancer Cases\": [None, 13.0, None, None, None, None],  # Percentage of rare cancer cases\n",
    "    \"Rare Cancer Criteria (cases per 100,000)\": [None, 6, None, None, None, None],  # Rare cancer threshold\n",
    "    \"Lifetime Probability (Developing Cancer)\": [None, None, None, None, None, None],  # Placeholder for cancer-specific probabilities\n",
    "    \"Lifetime Probability (Cancer Deaths)\": [None, None, None, None, None, None],  # Placeholder for cancer death probabilities\n",
    "    \"Year\": [2017, 2017, 2017, 2017, 2017, 2017]\n",
    "}\n",
    "\n",
    "# Convert into DataFrame\n",
    "cancer_url = pd.DataFrame(data)\n",
    "\n",
    "# Display the structured dataset\n",
    "print(cancer_url)"
   ]
  },
  {
   "cell_type": "code",
   "execution_count": 435,
   "metadata": {},
   "outputs": [
    {
     "name": "stdout",
     "output_type": "stream",
     "text": [
      "CSV DataFrame Columns: Index(['State', 'Brain/ nervous system', 'Female breast', 'Colon & rectum',\n",
      "       'Leukemia', 'Liver', 'Lung & bronchus', 'Non-Hodgkin Lymphoma', 'Ovary',\n",
      "       'Pancreas', 'Prostate'],\n",
      "      dtype='object')\n",
      "Web DataFrame Columns: Index(['Cancer Type', 'Cancer Cases (2017)', 'Cancer Deaths (2017)',\n",
      "       'Percentage of Rare Cancer Cases',\n",
      "       'Rare Cancer Criteria (cases per 100,000)',\n",
      "       'Lifetime Probability (Developing Cancer)',\n",
      "       'Lifetime Probability (Cancer Deaths)', 'Year'],\n",
      "      dtype='object')\n"
     ]
    }
   ],
   "source": [
    "# Check columns in both DataFrames\n",
    "print(\"CSV DataFrame Columns:\", csv_df.columns)\n",
    "print(\"Web DataFrame Columns:\", cancer_url.columns)"
   ]
  },
  {
   "cell_type": "code",
   "execution_count": 436,
   "metadata": {},
   "outputs": [],
   "source": [
    "# Strip leading and trailing spaces from column names in both DataFrames\n",
    "csv_df.columns = csv_df.columns.str.strip()\n",
    "cancer_url.columns = cancer_url.columns.str.strip()"
   ]
  },
  {
   "cell_type": "markdown",
   "metadata": {},
   "source": [
    "Plan:\n",
    "Reshape csv_df: We'll melt csv_df into a format where each row represents a state and one cancer type, making it possible to compare state-level data to national-level data from cancer_url."
   ]
  },
  {
   "cell_type": "code",
   "execution_count": 438,
   "metadata": {},
   "outputs": [],
   "source": [
    "# Reshape the csv_df DataFrame\n",
    "reshaped_csv_df = pd.melt(csv_df, id_vars=['State'], var_name='Cancer Type', value_name='Cancer Data')"
   ]
  },
  {
   "cell_type": "code",
   "execution_count": 439,
   "metadata": {},
   "outputs": [
    {
     "name": "stdout",
     "output_type": "stream",
     "text": [
      "        State            Cancer Type Cancer Data\n",
      "0     Alabama  Brain/ nervous system         320\n",
      "1      Alaska  Brain/ nervous system           \n",
      "2     Arizona  Brain/ nervous system         380\n",
      "3    Arkansas  Brain/ nervous system         180\n",
      "4  California  Brain/ nervous system        1830\n"
     ]
    }
   ],
   "source": [
    "# Check the reshaped DataFrame to confirm it's in the desired format\n",
    "print(reshaped_csv_df.head())"
   ]
  },
  {
   "cell_type": "code",
   "execution_count": 440,
   "metadata": {},
   "outputs": [
    {
     "data": {
      "text/html": [
       "<div>\n",
       "<style scoped>\n",
       "    .dataframe tbody tr th:only-of-type {\n",
       "        vertical-align: middle;\n",
       "    }\n",
       "\n",
       "    .dataframe tbody tr th {\n",
       "        vertical-align: top;\n",
       "    }\n",
       "\n",
       "    .dataframe thead th {\n",
       "        text-align: right;\n",
       "    }\n",
       "</style>\n",
       "<table border=\"1\" class=\"dataframe\">\n",
       "  <thead>\n",
       "    <tr style=\"text-align: right;\">\n",
       "      <th></th>\n",
       "      <th>State</th>\n",
       "      <th>Cancer Type</th>\n",
       "      <th>Cancer Data</th>\n",
       "    </tr>\n",
       "  </thead>\n",
       "  <tbody>\n",
       "    <tr>\n",
       "      <th>0</th>\n",
       "      <td>Alabama</td>\n",
       "      <td>Brain/ nervous system</td>\n",
       "      <td>320</td>\n",
       "    </tr>\n",
       "    <tr>\n",
       "      <th>1</th>\n",
       "      <td>Alaska</td>\n",
       "      <td>Brain/ nervous system</td>\n",
       "      <td></td>\n",
       "    </tr>\n",
       "    <tr>\n",
       "      <th>2</th>\n",
       "      <td>Arizona</td>\n",
       "      <td>Brain/ nervous system</td>\n",
       "      <td>380</td>\n",
       "    </tr>\n",
       "    <tr>\n",
       "      <th>3</th>\n",
       "      <td>Arkansas</td>\n",
       "      <td>Brain/ nervous system</td>\n",
       "      <td>180</td>\n",
       "    </tr>\n",
       "    <tr>\n",
       "      <th>4</th>\n",
       "      <td>California</td>\n",
       "      <td>Brain/ nervous system</td>\n",
       "      <td>1830</td>\n",
       "    </tr>\n",
       "    <tr>\n",
       "      <th>...</th>\n",
       "      <td>...</td>\n",
       "      <td>...</td>\n",
       "      <td>...</td>\n",
       "    </tr>\n",
       "    <tr>\n",
       "      <th>505</th>\n",
       "      <td>Virginia</td>\n",
       "      <td>Prostate</td>\n",
       "      <td>650</td>\n",
       "    </tr>\n",
       "    <tr>\n",
       "      <th>506</th>\n",
       "      <td>Washington</td>\n",
       "      <td>Prostate</td>\n",
       "      <td>620</td>\n",
       "    </tr>\n",
       "    <tr>\n",
       "      <th>507</th>\n",
       "      <td>West Virginia</td>\n",
       "      <td>Prostate</td>\n",
       "      <td>160</td>\n",
       "    </tr>\n",
       "    <tr>\n",
       "      <th>508</th>\n",
       "      <td>Wisconsin</td>\n",
       "      <td>Prostate</td>\n",
       "      <td>570</td>\n",
       "    </tr>\n",
       "    <tr>\n",
       "      <th>509</th>\n",
       "      <td>Wyoming</td>\n",
       "      <td>Prostate</td>\n",
       "      <td></td>\n",
       "    </tr>\n",
       "  </tbody>\n",
       "</table>\n",
       "<p>510 rows × 3 columns</p>\n",
       "</div>"
      ],
      "text/plain": [
       "             State            Cancer Type Cancer Data\n",
       "0          Alabama  Brain/ nervous system         320\n",
       "1           Alaska  Brain/ nervous system           \n",
       "2          Arizona  Brain/ nervous system         380\n",
       "3         Arkansas  Brain/ nervous system         180\n",
       "4       California  Brain/ nervous system        1830\n",
       "..             ...                    ...         ...\n",
       "505       Virginia               Prostate         650\n",
       "506     Washington               Prostate         620\n",
       "507  West Virginia               Prostate         160\n",
       "508      Wisconsin               Prostate         570\n",
       "509        Wyoming               Prostate           \n",
       "\n",
       "[510 rows x 3 columns]"
      ]
     },
     "execution_count": 440,
     "metadata": {},
     "output_type": "execute_result"
    }
   ],
   "source": [
    "reshaped_csv_df"
   ]
  },
  {
   "cell_type": "code",
   "execution_count": 441,
   "metadata": {},
   "outputs": [],
   "source": [
    "# Clean the 'Cancer Data' column to ensure all values are numeric\n",
    "reshaped_csv_df['Cancer Data'] = pd.to_numeric(reshaped_csv_df['Cancer Data'], errors='coerce')\n"
   ]
  },
  {
   "cell_type": "code",
   "execution_count": 442,
   "metadata": {},
   "outputs": [
    {
     "name": "stdout",
     "output_type": "stream",
     "text": [
      "State           0\n",
      "Cancer Type     0\n",
      "Cancer Data    63\n",
      "dtype: int64\n"
     ]
    }
   ],
   "source": [
    "# Check for missing values and handle them\n",
    "print(reshaped_csv_df.isna().sum())"
   ]
  },
  {
   "cell_type": "markdown",
   "metadata": {},
   "source": [
    "The output shows that there are 63 missing values in the Cancer Data column, which indicates that some state-level data might be missing or improperly formatted."
   ]
  },
  {
   "cell_type": "markdown",
   "metadata": {},
   "source": [
    "We will be Filling the missing values with the Mean or Median. This is because we believe the missing data can be approximated by the average value"
   ]
  },
  {
   "cell_type": "code",
   "execution_count": 446,
   "metadata": {},
   "outputs": [
    {
     "name": "stderr",
     "output_type": "stream",
     "text": [
      "C:\\Users\\Admin\\AppData\\Local\\Temp\\ipykernel_5668\\1829353179.py:2: FutureWarning: A value is trying to be set on a copy of a DataFrame or Series through chained assignment using an inplace method.\n",
      "The behavior will change in pandas 3.0. This inplace method will never work because the intermediate object on which we are setting values always behaves as a copy.\n",
      "\n",
      "For example, when doing 'df[col].method(value, inplace=True)', try using 'df.method({col: value}, inplace=True)' or df[col] = df[col].method(value) instead, to perform the operation inplace on the original object.\n",
      "\n",
      "\n",
      "  reshaped_csv_df['Cancer Data'].fillna(reshaped_csv_df['Cancer Data'].mean(), inplace=True)\n"
     ]
    }
   ],
   "source": [
    "# fill with the mean or median of the column\n",
    "reshaped_csv_df['Cancer Data'].fillna(reshaped_csv_df['Cancer Data'].mean(), inplace=True)"
   ]
  },
  {
   "cell_type": "code",
   "execution_count": 447,
   "metadata": {},
   "outputs": [],
   "source": [
    "# Merge the reshaped state data with the 2017 cancer statistics data\n",
    "merged_df = pd.merge(reshaped_csv_df, cancer_url, how='left', on='Cancer Type')"
   ]
  },
  {
   "cell_type": "code",
   "execution_count": 448,
   "metadata": {},
   "outputs": [
    {
     "name": "stdout",
     "output_type": "stream",
     "text": [
      "        State            Cancer Type  Cancer Data  Cancer Cases (2017)  \\\n",
      "0     Alabama  Brain/ nervous system   320.000000                  NaN   \n",
      "1      Alaska  Brain/ nervous system   587.114094                  NaN   \n",
      "2     Arizona  Brain/ nervous system   380.000000                  NaN   \n",
      "3    Arkansas  Brain/ nervous system   180.000000                  NaN   \n",
      "4  California  Brain/ nervous system  1830.000000                  NaN   \n",
      "\n",
      "   Cancer Deaths (2017)  Percentage of Rare Cancer Cases  \\\n",
      "0                   NaN                              NaN   \n",
      "1                   NaN                              NaN   \n",
      "2                   NaN                              NaN   \n",
      "3                   NaN                              NaN   \n",
      "4                   NaN                              NaN   \n",
      "\n",
      "   Rare Cancer Criteria (cases per 100,000)  \\\n",
      "0                                       NaN   \n",
      "1                                       NaN   \n",
      "2                                       NaN   \n",
      "3                                       NaN   \n",
      "4                                       NaN   \n",
      "\n",
      "  Lifetime Probability (Developing Cancer)  \\\n",
      "0                                      NaN   \n",
      "1                                      NaN   \n",
      "2                                      NaN   \n",
      "3                                      NaN   \n",
      "4                                      NaN   \n",
      "\n",
      "  Lifetime Probability (Cancer Deaths)  Year  \n",
      "0                                  NaN   NaN  \n",
      "1                                  NaN   NaN  \n",
      "2                                  NaN   NaN  \n",
      "3                                  NaN   NaN  \n",
      "4                                  NaN   NaN  \n"
     ]
    }
   ],
   "source": [
    "# Check the merged DataFrame to ensure everything merged properly\n",
    "print(merged_df.head())"
   ]
  },
  {
   "cell_type": "code",
   "execution_count": 449,
   "metadata": {},
   "outputs": [
    {
     "name": "stdout",
     "output_type": "stream",
     "text": [
      "['Brain/ nervous system' 'Female breast' 'Colon & rectum' 'Leukemia'\n",
      " 'Liver' 'Lung & bronchus' 'Non-Hodgkin Lymphoma' 'Ovary' 'Pancreas'\n",
      " 'Prostate']\n",
      "['Total Cancer' 'Rare Cancer' 'Lung Cancer' 'Breast Cancer'\n",
      " 'Colorectal Cancer' 'Prostate Cancer']\n"
     ]
    }
   ],
   "source": [
    "print(reshaped_csv_df['Cancer Type'].unique())\n",
    "print(cancer_url['Cancer Type'].unique())"
   ]
  },
  {
   "cell_type": "code",
   "execution_count": 450,
   "metadata": {},
   "outputs": [],
   "source": [
    "#standardize the cancer type columns\n",
    "reshaped_csv_df['Cancer Type'] = reshaped_csv_df['Cancer Type'].str.strip().str.title()\n",
    "cancer_url['Cancer Type'] = cancer_url['Cancer Type'].str.strip().str.title()"
   ]
  },
  {
   "cell_type": "code",
   "execution_count": 451,
   "metadata": {},
   "outputs": [
    {
     "name": "stdout",
     "output_type": "stream",
     "text": [
      "Cancer Type                                 0\n",
      "Cancer Cases (2017)                         5\n",
      "Cancer Deaths (2017)                        5\n",
      "Percentage of Rare Cancer Cases             5\n",
      "Rare Cancer Criteria (cases per 100,000)    5\n",
      "Lifetime Probability (Developing Cancer)    6\n",
      "Lifetime Probability (Cancer Deaths)        6\n",
      "Year                                        0\n",
      "dtype: int64\n"
     ]
    }
   ],
   "source": [
    "#Check for Missing Data\n",
    "print(cancer_url.isna().sum())"
   ]
  },
  {
   "cell_type": "code",
   "execution_count": 452,
   "metadata": {},
   "outputs": [
    {
     "name": "stderr",
     "output_type": "stream",
     "text": [
      "C:\\Users\\Admin\\AppData\\Local\\Temp\\ipykernel_5668\\1301203144.py:2: FutureWarning: A value is trying to be set on a copy of a DataFrame or Series through chained assignment using an inplace method.\n",
      "The behavior will change in pandas 3.0. This inplace method will never work because the intermediate object on which we are setting values always behaves as a copy.\n",
      "\n",
      "For example, when doing 'df[col].method(value, inplace=True)', try using 'df.method({col: value}, inplace=True)' or df[col] = df[col].method(value) instead, to perform the operation inplace on the original object.\n",
      "\n",
      "\n",
      "  merged_df['Cancer Cases (2017)'].fillna(merged_df['Cancer Cases (2017)'].mean(), inplace=True)\n"
     ]
    }
   ],
   "source": [
    "# Fill missing values with mean or median\n",
    "merged_df['Cancer Cases (2017)'].fillna(merged_df['Cancer Cases (2017)'].mean(), inplace=True)"
   ]
  },
  {
   "cell_type": "code",
   "execution_count": 453,
   "metadata": {},
   "outputs": [
    {
     "name": "stdout",
     "output_type": "stream",
     "text": [
      "State                                         0\n",
      "Cancer Type                                   0\n",
      "Cancer Data                                   0\n",
      "Cancer Cases (2017)                         510\n",
      "Cancer Deaths (2017)                        510\n",
      "Percentage of Rare Cancer Cases             510\n",
      "Rare Cancer Criteria (cases per 100,000)    510\n",
      "Lifetime Probability (Developing Cancer)    510\n",
      "Lifetime Probability (Cancer Deaths)        510\n",
      "Year                                        510\n",
      "dtype: int64\n"
     ]
    }
   ],
   "source": [
    "# Recheck for Missing Data\n",
    "print(merged_df.isna().sum())"
   ]
  },
  {
   "cell_type": "code",
   "execution_count": 454,
   "metadata": {},
   "outputs": [
    {
     "name": "stdout",
     "output_type": "stream",
     "text": [
      "State                                         0\n",
      "Cancer Type                                   0\n",
      "Cancer Data                                   0\n",
      "Cancer Cases (2017)                         510\n",
      "Cancer Deaths (2017)                        510\n",
      "Percentage of Rare Cancer Cases             510\n",
      "Rare Cancer Criteria (cases per 100,000)    510\n",
      "Lifetime Probability (Developing Cancer)    510\n",
      "Lifetime Probability (Cancer Deaths)        510\n",
      "Year                                          0\n",
      "dtype: int64\n"
     ]
    },
    {
     "name": "stderr",
     "output_type": "stream",
     "text": [
      "C:\\Users\\Admin\\anaconda3\\Lib\\site-packages\\numpy\\lib\\nanfunctions.py:1215: RuntimeWarning: Mean of empty slice\n",
      "  return np.nanmean(a, axis, out=out, keepdims=keepdims)\n",
      "C:\\Users\\Admin\\AppData\\Local\\Temp\\ipykernel_5668\\4066878837.py:6: FutureWarning: Downcasting object dtype arrays on .fillna, .ffill, .bfill is deprecated and will change in a future version. Call result.infer_objects(copy=False) instead. To opt-in to the future behavior, set `pd.set_option('future.no_silent_downcasting', True)`\n",
      "  merged_df['Lifetime Probability (Developing Cancer)'] = merged_df['Lifetime Probability (Developing Cancer)'].fillna(merged_df['Lifetime Probability (Developing Cancer)'].median())\n",
      "C:\\Users\\Admin\\anaconda3\\Lib\\site-packages\\numpy\\lib\\nanfunctions.py:1215: RuntimeWarning: Mean of empty slice\n",
      "  return np.nanmean(a, axis, out=out, keepdims=keepdims)\n",
      "C:\\Users\\Admin\\AppData\\Local\\Temp\\ipykernel_5668\\4066878837.py:7: FutureWarning: Downcasting object dtype arrays on .fillna, .ffill, .bfill is deprecated and will change in a future version. Call result.infer_objects(copy=False) instead. To opt-in to the future behavior, set `pd.set_option('future.no_silent_downcasting', True)`\n",
      "  merged_df['Lifetime Probability (Cancer Deaths)'] = merged_df['Lifetime Probability (Cancer Deaths)'].fillna(merged_df['Lifetime Probability (Cancer Deaths)'].median())\n"
     ]
    }
   ],
   "source": [
    "# Refill missing values for numerical columns\n",
    "merged_df['Cancer Cases (2017)'] = merged_df['Cancer Cases (2017)'].fillna(merged_df['Cancer Cases (2017)'].mean())\n",
    "merged_df['Cancer Deaths (2017)'] = merged_df['Cancer Deaths (2017)'].fillna(merged_df['Cancer Deaths (2017)'].mean())\n",
    "merged_df['Percentage of Rare Cancer Cases'] = merged_df['Percentage of Rare Cancer Cases'].fillna(merged_df['Percentage of Rare Cancer Cases'].median())\n",
    "merged_df['Rare Cancer Criteria (cases per 100,000)'] = merged_df['Rare Cancer Criteria (cases per 100,000)'].fillna(merged_df['Rare Cancer Criteria (cases per 100,000)'].median())\n",
    "merged_df['Lifetime Probability (Developing Cancer)'] = merged_df['Lifetime Probability (Developing Cancer)'].fillna(merged_df['Lifetime Probability (Developing Cancer)'].median())\n",
    "merged_df['Lifetime Probability (Cancer Deaths)'] = merged_df['Lifetime Probability (Cancer Deaths)'].fillna(merged_df['Lifetime Probability (Cancer Deaths)'].median())\n",
    "\n",
    "# Handling the 'Year' column separately since mode might not work as expected\n",
    "if not merged_df['Year'].mode().empty:\n",
    "    merged_df['Year'] = merged_df['Year'].fillna(merged_df['Year'].mode()[0])\n",
    "else:\n",
    "    # Handle the case when there is no mode, you can set a default value or use another strategy\n",
    "    merged_df['Year'] = merged_df['Year'].fillna(0)  # Example, fill with 0\n",
    "\n",
    "# Recheck for missing data\n",
    "print(merged_df.isna().sum())\n"
   ]
  },
  {
   "cell_type": "code",
   "execution_count": 455,
   "metadata": {},
   "outputs": [
    {
     "name": "stdout",
     "output_type": "stream",
     "text": [
      "State: ['Alabama' 'Alaska' 'Arizona' 'Arkansas' 'California' 'Colorado'\n",
      " 'Connecticut' 'Delaware' 'District of Columbia' 'Florida' 'Georgia'\n",
      " 'Hawaii' 'Idaho' 'Illinois' 'Indiana' 'Iowa' 'Kansas' 'Kentucky'\n",
      " 'Louisiana' 'Maine' 'Maryland' 'Massachusetts' 'Michigan' 'Minnesota'\n",
      " 'Mississippi' 'Missouri' 'Montana' 'Nebraska' 'Nevada' 'New Hampshire'\n",
      " 'New Jersey' 'New Mexico' 'New York' 'North Carolina' 'North Dakota'\n",
      " 'Ohio' 'Oklahoma' 'Oregon' 'Pennsylvania' 'Rhode Island' 'South Carolina'\n",
      " 'South Dakota' 'Tennessee' 'Texas' 'Utah' 'Vermont' 'Virginia'\n",
      " 'Washington' 'West Virginia' 'Wisconsin' 'Wyoming']\n",
      "Cancer Type: ['Brain/ nervous system' 'Female breast' 'Colon & rectum' 'Leukemia'\n",
      " 'Liver' 'Lung & bronchus' 'Non-Hodgkin Lymphoma' 'Ovary' 'Pancreas'\n",
      " 'Prostate']\n",
      "Cancer Data: [ 320.          587.11409396  380.          180.         1830.\n",
      "  270.          190.           50.         1250.          490.\n",
      "  100.          610.          350.          170.          250.\n",
      "  220.          280.          570.          330.           60.\n",
      "  110.          150.           80.          420.           90.\n",
      "  910.          600.          640.          200.          260.\n",
      "  700.         1100.          130.          390.          410.\n",
      "  360.          650.           70.          810.         4440.\n",
      "  430.         2910.         1320.          140.         1680.\n",
      "  860.          590.          620.          820.          760.\n",
      "  230.         2410.         1360.         1690.          530.\n",
      "  520.         1900.          120.          920.         2830.\n",
      " 1060.          850.          740.          940.         5240.\n",
      "  660.          450.         3620.         1540.          240.\n",
      " 2030.         1110.          470.          830.          500.\n",
      "  340.         2870.         1530.         2130.          710.\n",
      " 2390.          160.         1220.         3700.         1190.\n",
      "  970.          880.          550.         2610.          300.\n",
      " 1800.          990.          540.          480.         1460.\n",
      " 1210.         3750.         2020.         1040.          400.\n",
      "  560.          670.          580.          440.         2620.\n",
      "  680.          960.          510.          900.          460.\n",
      "  210.         2140.         1510.          790.          290.\n",
      " 1010.         1380.          310.          690.          370.\n",
      "  930.         4510.         3170.         1160.         1650.\n",
      "  840.          950.         2750.         1350.         1810.\n",
      " 2110.         2780.         1080.          870.         3130.\n",
      " 2050.          780.         1560.         1020.         1200.        ]\n",
      "Cancer Cases (2017): [nan]\n",
      "Cancer Deaths (2017): [nan]\n",
      "Percentage of Rare Cancer Cases: [nan]\n",
      "Rare Cancer Criteria (cases per 100,000): [nan]\n",
      "Lifetime Probability (Developing Cancer): [nan]\n",
      "Lifetime Probability (Cancer Deaths): [nan]\n",
      "Year: [0.]\n"
     ]
    }
   ],
   "source": [
    "# Check unique values in the columns to identify what type of missing data is present\n",
    "for col in merged_df.columns:\n",
    "    print(f\"{col}: {merged_df[col].unique()}\")"
   ]
  },
  {
   "cell_type": "code",
   "execution_count": 456,
   "metadata": {},
   "outputs": [],
   "source": [
    "# Drop columns that have all NaN values\n",
    "merged_df.dropna(axis=1, how='all', inplace=True)"
   ]
  },
  {
   "cell_type": "code",
   "execution_count": 457,
   "metadata": {},
   "outputs": [
    {
     "name": "stdout",
     "output_type": "stream",
     "text": [
      "State          0\n",
      "Cancer Type    0\n",
      "Cancer Data    0\n",
      "Year           0\n",
      "dtype: int64\n"
     ]
    }
   ],
   "source": [
    "# Recheck the dataframe\n",
    "print(merged_df.isna().sum())"
   ]
  },
  {
   "cell_type": "code",
   "execution_count": 458,
   "metadata": {},
   "outputs": [
    {
     "name": "stdout",
     "output_type": "stream",
     "text": [
      "        State            Cancer Type  Cancer Data  Year\n",
      "0     Alabama  Brain/ nervous system   320.000000   0.0\n",
      "1      Alaska  Brain/ nervous system   587.114094   0.0\n",
      "2     Arizona  Brain/ nervous system   380.000000   0.0\n",
      "3    Arkansas  Brain/ nervous system   180.000000   0.0\n",
      "4  California  Brain/ nervous system  1830.000000   0.0\n"
     ]
    }
   ],
   "source": [
    "# Check the merged DataFrame to ensure everything merged properly\n",
    "print(merged_df.head())"
   ]
  },
  {
   "cell_type": "code",
   "execution_count": 459,
   "metadata": {},
   "outputs": [
    {
     "name": "stdout",
     "output_type": "stream",
     "text": [
      "Empty DataFrame\n",
      "Columns: [State, Cancer Type, Cancer Data, Year]\n",
      "Index: []\n"
     ]
    }
   ],
   "source": [
    "# Check if there are any values other than 0 in the 'Year' column\n",
    "non_zero_years = merged_df[merged_df['Year'] != 0]\n",
    "\n",
    "# Display the rows with non-zero values in the 'Year' column\n",
    "print(non_zero_years)"
   ]
  },
  {
   "cell_type": "code",
   "execution_count": 460,
   "metadata": {},
   "outputs": [],
   "source": [
    "# Replace 0.0 in the 'Year' column with 2017\n",
    "merged_df['Year'] = merged_df['Year'].replace(0.0, 2017)"
   ]
  },
  {
   "cell_type": "code",
   "execution_count": 461,
   "metadata": {},
   "outputs": [],
   "source": [
    "# Convert the Year column to an integer type\n",
    "merged_df['Year'] = merged_df['Year'].astype(int)"
   ]
  },
  {
   "cell_type": "code",
   "execution_count": 462,
   "metadata": {},
   "outputs": [
    {
     "name": "stdout",
     "output_type": "stream",
     "text": [
      "Year\n",
      "2017    510\n",
      "Name: count, dtype: int64\n"
     ]
    }
   ],
   "source": [
    "# Confirm changes\n",
    "print(merged_df['Year'].value_counts())"
   ]
  },
  {
   "cell_type": "code",
   "execution_count": 465,
   "metadata": {},
   "outputs": [
    {
     "name": "stdout",
     "output_type": "stream",
     "text": [
      "        State            Cancer Type  Cancer Data  Year\n",
      "0     Alabama  Brain/ nervous system   320.000000  2017\n",
      "1      Alaska  Brain/ nervous system   587.114094  2017\n",
      "2     Arizona  Brain/ nervous system   380.000000  2017\n",
      "3    Arkansas  Brain/ nervous system   180.000000  2017\n",
      "4  California  Brain/ nervous system  1830.000000  2017\n"
     ]
    }
   ],
   "source": [
    "print(merged_df.head())"
   ]
  },
  {
   "cell_type": "code",
   "execution_count": 466,
   "metadata": {},
   "outputs": [
    {
     "name": "stdout",
     "output_type": "stream",
     "text": [
      "State           object\n",
      "Cancer Type     object\n",
      "Cancer Data    float64\n",
      "Year             int32\n",
      "dtype: object\n"
     ]
    }
   ],
   "source": [
    "# Verify the change\n",
    "print(merged_df.dtypes)"
   ]
  },
  {
   "cell_type": "code",
   "execution_count": 467,
   "metadata": {},
   "outputs": [
    {
     "name": "stdout",
     "output_type": "stream",
     "text": [
      "       Cancer Data    Year\n",
      "count   510.000000   510.0\n",
      "mean    587.114094  2017.0\n",
      "std     653.006011     0.0\n",
      "min      50.000000  2017.0\n",
      "25%     200.000000  2017.0\n",
      "50%     450.000000  2017.0\n",
      "75%     640.000000  2017.0\n",
      "max    5240.000000  2017.0\n"
     ]
    }
   ],
   "source": [
    "#check characteristics of the datasets\n",
    "print(merged_df.describe())"
   ]
  },
  {
   "cell_type": "code",
   "execution_count": 468,
   "metadata": {},
   "outputs": [
    {
     "name": "stdout",
     "output_type": "stream",
     "text": [
      "<class 'pandas.core.frame.DataFrame'>\n",
      "RangeIndex: 510 entries, 0 to 509\n",
      "Data columns (total 4 columns):\n",
      " #   Column       Non-Null Count  Dtype  \n",
      "---  ------       --------------  -----  \n",
      " 0   State        510 non-null    object \n",
      " 1   Cancer Type  510 non-null    object \n",
      " 2   Cancer Data  510 non-null    float64\n",
      " 3   Year         510 non-null    int32  \n",
      "dtypes: float64(1), int32(1), object(2)\n",
      "memory usage: 14.1+ KB\n",
      "None\n"
     ]
    }
   ],
   "source": [
    "# check information about data types \n",
    "print(merged_df.info())"
   ]
  },
  {
   "cell_type": "code",
   "execution_count": 469,
   "metadata": {},
   "outputs": [
    {
     "name": "stdout",
     "output_type": "stream",
     "text": [
      "Unique States: 51\n",
      "Unique Cancer Types: 10\n"
     ]
    }
   ],
   "source": [
    "# check unique values in categorical variables\n",
    "print(\"Unique States:\", merged_df['State'].nunique())\n",
    "print(\"Unique Cancer Types:\", merged_df['Cancer Type'].nunique())"
   ]
  },
  {
   "cell_type": "code",
   "execution_count": 470,
   "metadata": {},
   "outputs": [
    {
     "name": "stdout",
     "output_type": "stream",
     "text": [
      "Number of duplicate rows: 0\n"
     ]
    }
   ],
   "source": [
    "# check for duplicates\n",
    "print(\"Number of duplicate rows:\", merged_df.duplicated().sum())"
   ]
  },
  {
   "cell_type": "markdown",
   "metadata": {},
   "source": [
    "Exploratory Data Analysis (EDA)"
   ]
  },
  {
   "cell_type": "code",
   "execution_count": 472,
   "metadata": {},
   "outputs": [
    {
     "data": {
      "image/png": "[encoded data removed]",
      "text/plain": [
       "<Figure size 1200x800 with 1 Axes>"
      ]
     },
     "metadata": {},
     "output_type": "display_data"
    }
   ],
   "source": [
    "# plot a bar chart to visualize cancer data by estate\n",
    "\n",
    "state_data = merged_df.groupby('State')['Cancer Data'].sum().sort_values()\n",
    "state_data.plot(kind='barh', figsize=(12, 8), color='skyblue')\n",
    "plt.title(\"Cancer Data by State\")\n",
    "plt.xlabel(\"Cancer Data\")\n",
    "plt.ylabel(\"State\")\n",
    "plt.show()"
   ]
  },
  {
   "cell_type": "code",
   "execution_count": 473,
   "metadata": {},
   "outputs": [
    {
     "data": {
      "image/png": "[encoded data removed]",
      "text/plain": [
       "<Figure size 1200x600 with 1 Axes>"
      ]
     },
     "metadata": {},
     "output_type": "display_data"
    }
   ],
   "source": [
    "# distribution by cancer \n",
    "\n",
    "cancer_type_data = merged_df.groupby('Cancer Type')['Cancer Data'].sum().sort_values()\n",
    "cancer_type_data.plot(kind='bar', figsize=(12, 6), color='lightcoral')\n",
    "plt.title(\"Cancer Data by Cancer Type\")\n",
    "plt.xlabel(\"Cancer Type\")\n",
    "plt.ylabel(\"Cancer Data\")\n",
    "plt.xticks(rotation=45)\n",
    "plt.show()"
   ]
  },
  {
   "cell_type": "code",
   "execution_count": 474,
   "metadata": {},
   "outputs": [
    {
     "data": {
      "image/png": "[encoded data removed]",
      "text/plain": [
       "<Figure size 600x400 with 2 Axes>"
      ]
     },
     "metadata": {},
     "output_type": "display_data"
    }
   ],
   "source": [
    "# Correlation heatmap\n",
    "correlation = merged_df[['Cancer Data', 'Year']].corr()\n",
    "\n",
    "plt.figure(figsize=(6, 4))\n",
    "sns.heatmap(correlation, annot=True, cmap='coolwarm', fmt='.2f')\n",
    "plt.title('Correlation Heatmap')\n",
    "plt.show()"
   ]
  },
  {
   "cell_type": "code",
   "execution_count": 510,
   "metadata": {},
   "outputs": [
    {
     "data": {
      "image/png": "[encoded data removed]",
      "text/plain": [
       "<Figure size 800x500 with 1 Axes>"
      ]
     },
     "metadata": {},
     "output_type": "display_data"
    }
   ],
   "source": [
    "plt.figure(figsize=(8, 5))\n",
    "sns.boxplot(data=merged_df, x='Cancer Type', y='Cancer Data')\n",
    "plt.xticks(rotation=90)\n",
    "plt.title('Spread of Cancer Cases by Cancer Type')\n",
    "plt.xlabel('Cancer Type')\n",
    "plt.ylabel('Cancer Cases')\n",
    "plt.show()"
   ]
  },
  {
   "cell_type": "code",
   "execution_count": 296,
   "metadata": {},
   "outputs": [
    {
     "name": "stdout",
     "output_type": "stream",
     "text": [
      "Statistical Summary for Cancer Data:\n",
      "count     510.000000\n",
      "mean      587.114094\n",
      "std       653.006011\n",
      "min        50.000000\n",
      "25%       200.000000\n",
      "50%       450.000000\n",
      "75%       640.000000\n",
      "max      5240.000000\n",
      "Name: Cancer Data, dtype: float64\n"
     ]
    }
   ],
   "source": [
    "# statistical summary for cancer data\n",
    "\n",
    "print(\"Statistical Summary for Cancer Data:\")\n",
    "print(merged_df['Cancer Data'].describe())"
   ]
  },
  {
   "cell_type": "code",
   "execution_count": 298,
   "metadata": {},
   "outputs": [
    {
     "name": "stdout",
     "output_type": "stream",
     "text": [
      "Top 10 States with Highest Cancer Cases:\n",
      "State\n",
      "California        29767.114094\n",
      "Florida           19887.114094\n",
      "Texas             19257.114094\n",
      "New York          16347.114094\n",
      "Pennsylvania      13017.114094\n",
      "Ohio              11287.114094\n",
      "Illinois          10987.114094\n",
      "North Carolina     9027.114094\n",
      "Georgia            8277.114094\n",
      "Virginia           7037.114094\n",
      "Name: Cancer Data, dtype: float64\n"
     ]
    }
   ],
   "source": [
    "# top estates with the highest cancer rates\n",
    "\n",
    "top_states = merged_df.groupby('State')['Cancer Data'].sum().nlargest(10)\n",
    "print(\"Top 10 States with Highest Cancer Cases:\")\n",
    "print(top_states)"
   ]
  },
  {
   "cell_type": "code",
   "execution_count": 302,
   "metadata": {},
   "outputs": [],
   "source": [
    "# Select numeric columns for correlation\n",
    "numeric_columns = merged_df.select_dtypes(include=['float64', 'int64'])"
   ]
  },
  {
   "cell_type": "code",
   "execution_count": 304,
   "metadata": {},
   "outputs": [],
   "source": [
    "# Calculate correlation matrix\n",
    "correlation = numeric_columns.corr()"
   ]
  },
  {
   "cell_type": "code",
   "execution_count": 306,
   "metadata": {},
   "outputs": [
    {
     "name": "stdout",
     "output_type": "stream",
     "text": [
      "Correlation Matrix:\n",
      "             Cancer Data\n",
      "Cancer Data          1.0\n"
     ]
    }
   ],
   "source": [
    "# Print the correlation matrix\n",
    "print(\"Correlation Matrix:\")\n",
    "print(correlation)"
   ]
  },
  {
   "cell_type": "code",
   "execution_count": 512,
   "metadata": {},
   "outputs": [
    {
     "name": "stdout",
     "output_type": "stream",
     "text": [
      "Merged dataset has been saved successfully!\n"
     ]
    }
   ],
   "source": [
    "# Save the merged dataset as a CSV file\n",
    "merged_df.to_csv('merged_cancer_data.csv', index=False)\n",
    "\n",
    "print(\"Merged dataset has been saved successfully!\")"
   ]
  },
  {
   "cell_type": "code",
   "execution_count": null,
   "metadata": {},
   "outputs": [],
   "source": []
  }
 ],
 "metadata": {
  "colab": {
   "provenance": []
  },
  "kernelspec": {
   "display_name": "Python 3 (ipykernel)",
   "language": "python",
   "name": "python3"
  },
  "language_info": {
   "codemirror_mode": {
    "name": "ipython",
    "version": 3
   },
   "file_extension": ".py",
   "mimetype": "text/x-python",
   "name": "python",
   "nbconvert_exporter": "python",
   "pygments_lexer": "ipython3",
   "version": "3.12.7"
  }
 },
 "nbformat": 4,
 "nbformat_minor": 4
}
